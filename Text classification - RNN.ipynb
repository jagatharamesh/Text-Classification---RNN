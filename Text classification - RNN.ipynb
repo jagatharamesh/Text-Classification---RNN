{
  "cells": [
    {
      "cell_type": "markdown",
      "metadata": {
        "id": "Z7L8CjJo9ufl"
      },
      "source": [
        "# AIRP2 Recurrent Neural Networks\n",
        "\n",
        "\n",
        "## Objective\n",
        "- Build RNN models in Keras\n",
        "- RNN architecture design\n",
        "- Tune paramters of RNN models"
      ]
    },
    {
      "cell_type": "markdown",
      "metadata": {
        "id": "bmVUOtMW9ufy"
      },
      "source": [
        "## Project 2\n",
        "\n",
        "- **Modify** RNN model in RNN-1 by using different\n",
        "    - sequence length\n",
        "    - simpleRNN/LSTM layers\n",
        "    - number of units\n",
        "    - pretrained weigths\n",
        "    - drop out rate\n",
        "    - number of dense layers\n",
        "    - number of units of dense layers\n",
        "    - optimizer\n",
        "    - learning rate\n",
        "    - batch size\n",
        "    - epoch\n",
        "    - Use test data as validation data (increase the training data)\n",
        "- **Plot** the performance history of different models\n",
        "- **Analyze** the effect of structure/hyper-parameters of RNN\n",
        "- **Summarize** the best model with the best performance of test data for **competition** in class. The competition is based on three criteria, accuracy, timing, and code efficiency.\n",
        "- Name your program AIRP2_StudentName_Project2. Submit ipynb version of your Project2 codes to PolyMall."
      ]
    },
    {
      "cell_type": "code",
      "execution_count": null,
      "metadata": {
        "id": "BX4y4RoX9uf0"
      },
      "outputs": [],
      "source": [
        "import numpy as np\n",
        "import pandas as pd\n",
        "\n",
        "from keras.preprocessing import sequence\n",
        "from keras.models import Sequential\n",
        "from keras.layers import Dense, Embedding\n",
        "from keras.layers import LSTM\n",
        "from sklearn import preprocessing\n",
        "\n",
        "import keras\n",
        "import tensorflow as tf\n",
        "from sklearn.model_selection import train_test_split\n",
        "from keras import initializers\n",
        "import matplotlib.pyplot as plt\n",
        "\n",
        "\n",
        "\n",
        "\n",
        "from keras.preprocessing.text import Tokenizer\n",
        "from keras.preprocessing.sequence import pad_sequences"
      ]
    },
    {
      "cell_type": "code",
      "source": [
        "df_bookdata = pd.read_csv('gutenberg_metadata.csv')"
      ],
      "metadata": {
        "id": "WHYhdnL9ZoCK"
      },
      "execution_count": null,
      "outputs": []
    },
    {
      "cell_type": "code",
      "source": [
        "df_bookdata.head(5)"
      ],
      "metadata": {
        "colab": {
          "base_uri": "https://localhost:8080/",
          "height": 206
        },
        "id": "89JHzewNZ4le",
        "outputId": "5addac88-f896-4748-b21f-4686b515541d"
      },
      "execution_count": null,
      "outputs": [
        {
          "output_type": "execute_result",
          "data": {
            "text/plain": [
              "                                          Title  \\\n",
              "0       The Extermination of the American Bison   \n",
              "1                          Deadfalls and Snares   \n",
              "2                   Artistic Anatomy of Animals   \n",
              "3                            Birds, Illustrated   \n",
              "4  On Snake-Poison: Its Action and Its Antidote   \n",
              "\n",
              "                                     Author  \\\n",
              "0                       William T. Hornaday   \n",
              "1                             A. R. Harding   \n",
              "2                             Édouard Cuyer   \n",
              "3  Color Photography, Vol. 1, No. 1 Various   \n",
              "4                                A. Mueller   \n",
              "\n",
              "                                    Link Bookshelf  \n",
              "0  http://www.gutenberg.org/ebooks/17748    Animal  \n",
              "1  http://www.gutenberg.org/ebooks/34110    Animal  \n",
              "2  http://www.gutenberg.org/ebooks/38315    Animal  \n",
              "3  http://www.gutenberg.org/ebooks/30221    Animal  \n",
              "4  http://www.gutenberg.org/ebooks/32947    Animal  "
            ],
            "text/html": [
              "\n",
              "  <div id=\"df-b9efdadf-e3b0-4235-a612-9329fb76b1e0\">\n",
              "    <div class=\"colab-df-container\">\n",
              "      <div>\n",
              "<style scoped>\n",
              "    .dataframe tbody tr th:only-of-type {\n",
              "        vertical-align: middle;\n",
              "    }\n",
              "\n",
              "    .dataframe tbody tr th {\n",
              "        vertical-align: top;\n",
              "    }\n",
              "\n",
              "    .dataframe thead th {\n",
              "        text-align: right;\n",
              "    }\n",
              "</style>\n",
              "<table border=\"1\" class=\"dataframe\">\n",
              "  <thead>\n",
              "    <tr style=\"text-align: right;\">\n",
              "      <th></th>\n",
              "      <th>Title</th>\n",
              "      <th>Author</th>\n",
              "      <th>Link</th>\n",
              "      <th>Bookshelf</th>\n",
              "    </tr>\n",
              "  </thead>\n",
              "  <tbody>\n",
              "    <tr>\n",
              "      <th>0</th>\n",
              "      <td>The Extermination of the American Bison</td>\n",
              "      <td>William T. Hornaday</td>\n",
              "      <td>http://www.gutenberg.org/ebooks/17748</td>\n",
              "      <td>Animal</td>\n",
              "    </tr>\n",
              "    <tr>\n",
              "      <th>1</th>\n",
              "      <td>Deadfalls and Snares</td>\n",
              "      <td>A. R. Harding</td>\n",
              "      <td>http://www.gutenberg.org/ebooks/34110</td>\n",
              "      <td>Animal</td>\n",
              "    </tr>\n",
              "    <tr>\n",
              "      <th>2</th>\n",
              "      <td>Artistic Anatomy of Animals</td>\n",
              "      <td>Édouard Cuyer</td>\n",
              "      <td>http://www.gutenberg.org/ebooks/38315</td>\n",
              "      <td>Animal</td>\n",
              "    </tr>\n",
              "    <tr>\n",
              "      <th>3</th>\n",
              "      <td>Birds, Illustrated</td>\n",
              "      <td>Color Photography, Vol. 1, No. 1 Various</td>\n",
              "      <td>http://www.gutenberg.org/ebooks/30221</td>\n",
              "      <td>Animal</td>\n",
              "    </tr>\n",
              "    <tr>\n",
              "      <th>4</th>\n",
              "      <td>On Snake-Poison: Its Action and Its Antidote</td>\n",
              "      <td>A. Mueller</td>\n",
              "      <td>http://www.gutenberg.org/ebooks/32947</td>\n",
              "      <td>Animal</td>\n",
              "    </tr>\n",
              "  </tbody>\n",
              "</table>\n",
              "</div>\n",
              "      <button class=\"colab-df-convert\" onclick=\"convertToInteractive('df-b9efdadf-e3b0-4235-a612-9329fb76b1e0')\"\n",
              "              title=\"Convert this dataframe to an interactive table.\"\n",
              "              style=\"display:none;\">\n",
              "        \n",
              "  <svg xmlns=\"http://www.w3.org/2000/svg\" height=\"24px\"viewBox=\"0 0 24 24\"\n",
              "       width=\"24px\">\n",
              "    <path d=\"M0 0h24v24H0V0z\" fill=\"none\"/>\n",
              "    <path d=\"M18.56 5.44l.94 2.06.94-2.06 2.06-.94-2.06-.94-.94-2.06-.94 2.06-2.06.94zm-11 1L8.5 8.5l.94-2.06 2.06-.94-2.06-.94L8.5 2.5l-.94 2.06-2.06.94zm10 10l.94 2.06.94-2.06 2.06-.94-2.06-.94-.94-2.06-.94 2.06-2.06.94z\"/><path d=\"M17.41 7.96l-1.37-1.37c-.4-.4-.92-.59-1.43-.59-.52 0-1.04.2-1.43.59L10.3 9.45l-7.72 7.72c-.78.78-.78 2.05 0 2.83L4 21.41c.39.39.9.59 1.41.59.51 0 1.02-.2 1.41-.59l7.78-7.78 2.81-2.81c.8-.78.8-2.07 0-2.86zM5.41 20L4 18.59l7.72-7.72 1.47 1.35L5.41 20z\"/>\n",
              "  </svg>\n",
              "      </button>\n",
              "      \n",
              "  <style>\n",
              "    .colab-df-container {\n",
              "      display:flex;\n",
              "      flex-wrap:wrap;\n",
              "      gap: 12px;\n",
              "    }\n",
              "\n",
              "    .colab-df-convert {\n",
              "      background-color: #E8F0FE;\n",
              "      border: none;\n",
              "      border-radius: 50%;\n",
              "      cursor: pointer;\n",
              "      display: none;\n",
              "      fill: #1967D2;\n",
              "      height: 32px;\n",
              "      padding: 0 0 0 0;\n",
              "      width: 32px;\n",
              "    }\n",
              "\n",
              "    .colab-df-convert:hover {\n",
              "      background-color: #E2EBFA;\n",
              "      box-shadow: 0px 1px 2px rgba(60, 64, 67, 0.3), 0px 1px 3px 1px rgba(60, 64, 67, 0.15);\n",
              "      fill: #174EA6;\n",
              "    }\n",
              "\n",
              "    [theme=dark] .colab-df-convert {\n",
              "      background-color: #3B4455;\n",
              "      fill: #D2E3FC;\n",
              "    }\n",
              "\n",
              "    [theme=dark] .colab-df-convert:hover {\n",
              "      background-color: #434B5C;\n",
              "      box-shadow: 0px 1px 3px 1px rgba(0, 0, 0, 0.15);\n",
              "      filter: drop-shadow(0px 1px 2px rgba(0, 0, 0, 0.3));\n",
              "      fill: #FFFFFF;\n",
              "    }\n",
              "  </style>\n",
              "\n",
              "      <script>\n",
              "        const buttonEl =\n",
              "          document.querySelector('#df-b9efdadf-e3b0-4235-a612-9329fb76b1e0 button.colab-df-convert');\n",
              "        buttonEl.style.display =\n",
              "          google.colab.kernel.accessAllowed ? 'block' : 'none';\n",
              "\n",
              "        async function convertToInteractive(key) {\n",
              "          const element = document.querySelector('#df-b9efdadf-e3b0-4235-a612-9329fb76b1e0');\n",
              "          const dataTable =\n",
              "            await google.colab.kernel.invokeFunction('convertToInteractive',\n",
              "                                                     [key], {});\n",
              "          if (!dataTable) return;\n",
              "\n",
              "          const docLinkHtml = 'Like what you see? Visit the ' +\n",
              "            '<a target=\"_blank\" href=https://colab.research.google.com/notebooks/data_table.ipynb>data table notebook</a>'\n",
              "            + ' to learn more about interactive tables.';\n",
              "          element.innerHTML = '';\n",
              "          dataTable['output_type'] = 'display_data';\n",
              "          await google.colab.output.renderOutput(dataTable, element);\n",
              "          const docLink = document.createElement('div');\n",
              "          docLink.innerHTML = docLinkHtml;\n",
              "          element.appendChild(docLink);\n",
              "        }\n",
              "      </script>\n",
              "    </div>\n",
              "  </div>\n",
              "  "
            ]
          },
          "metadata": {},
          "execution_count": 12
        }
      ]
    },
    {
      "cell_type": "code",
      "source": [
        "df_bookdata.columns"
      ],
      "metadata": {
        "colab": {
          "base_uri": "https://localhost:8080/"
        },
        "id": "i1nBju_EbGjD",
        "outputId": "4ae7ca94-2e9b-48fe-a38a-2eb928936fc0"
      },
      "execution_count": null,
      "outputs": [
        {
          "output_type": "execute_result",
          "data": {
            "text/plain": [
              "Index(['Title', 'Author', 'Link', 'Bookshelf'], dtype='object')"
            ]
          },
          "metadata": {},
          "execution_count": 13
        }
      ]
    },
    {
      "cell_type": "code",
      "source": [
        "df_bookdata.loc[50:60, :]"
      ],
      "metadata": {
        "colab": {
          "base_uri": "https://localhost:8080/",
          "height": 394
        },
        "id": "EjgXdSYLaiHX",
        "outputId": "3ffc55d2-f9fc-4043-b89b-5ee6b53a0e3a"
      },
      "execution_count": null,
      "outputs": [
        {
          "output_type": "execute_result",
          "data": {
            "text/plain": [
              "                                                Title  \\\n",
              "50                             The Life of the Spider   \n",
              "51                        Artistic Anatomy of Animals   \n",
              "52                   A Guide for the Study of Animals   \n",
              "53  Our Vanishing Wild Life: Its Extermination and...   \n",
              "54                                     Ways of Nature   \n",
              "55                          The Human Side of Animals   \n",
              "56                The Wonders of the Jungle, Book One   \n",
              "57  Zoological Mythology; or, The Legends of Anima...   \n",
              "58                               Wild Animals at Home   \n",
              "59                                  Ways of Wood Folk   \n",
              "60                                Animals of the Past   \n",
              "\n",
              "                                  Author  \\\n",
              "50                      Jean-Henri Fabre   \n",
              "51                         Édouard Cuyer   \n",
              "52  Lucas, Shinn, Smallwood, and Whitney   \n",
              "53                   William T. Hornaday   \n",
              "54                        John Burroughs   \n",
              "55                           Royal Dixon   \n",
              "56                    Sarath Kumar Ghosh   \n",
              "57                         De Gubernatis   \n",
              "58                 Ernest Thompson Seton   \n",
              "59                       William J. Long   \n",
              "60                     Frederic A. Lucas   \n",
              "\n",
              "                                     Link     Bookshelf  \n",
              "50   http://www.gutenberg.org/ebooks/1887  Animals-Wild  \n",
              "51  http://www.gutenberg.org/ebooks/38315  Animals-Wild  \n",
              "52  http://www.gutenberg.org/ebooks/34984  Animals-Wild  \n",
              "53  http://www.gutenberg.org/ebooks/13249  Animals-Wild  \n",
              "54  http://www.gutenberg.org/ebooks/30249  Animals-Wild  \n",
              "55  http://www.gutenberg.org/ebooks/19850  Animals-Wild  \n",
              "56  http://www.gutenberg.org/ebooks/24852  Animals-Wild  \n",
              "57  http://www.gutenberg.org/ebooks/38687  Animals-Wild  \n",
              "58  http://www.gutenberg.org/ebooks/27887  Animals-Wild  \n",
              "59  http://www.gutenberg.org/ebooks/18193  Animals-Wild  \n",
              "60  http://www.gutenberg.org/ebooks/38013  Animals-Wild  "
            ],
            "text/html": [
              "\n",
              "  <div id=\"df-08ec8181-d27e-4953-8b8e-88a6ff8975ce\">\n",
              "    <div class=\"colab-df-container\">\n",
              "      <div>\n",
              "<style scoped>\n",
              "    .dataframe tbody tr th:only-of-type {\n",
              "        vertical-align: middle;\n",
              "    }\n",
              "\n",
              "    .dataframe tbody tr th {\n",
              "        vertical-align: top;\n",
              "    }\n",
              "\n",
              "    .dataframe thead th {\n",
              "        text-align: right;\n",
              "    }\n",
              "</style>\n",
              "<table border=\"1\" class=\"dataframe\">\n",
              "  <thead>\n",
              "    <tr style=\"text-align: right;\">\n",
              "      <th></th>\n",
              "      <th>Title</th>\n",
              "      <th>Author</th>\n",
              "      <th>Link</th>\n",
              "      <th>Bookshelf</th>\n",
              "    </tr>\n",
              "  </thead>\n",
              "  <tbody>\n",
              "    <tr>\n",
              "      <th>50</th>\n",
              "      <td>The Life of the Spider</td>\n",
              "      <td>Jean-Henri Fabre</td>\n",
              "      <td>http://www.gutenberg.org/ebooks/1887</td>\n",
              "      <td>Animals-Wild</td>\n",
              "    </tr>\n",
              "    <tr>\n",
              "      <th>51</th>\n",
              "      <td>Artistic Anatomy of Animals</td>\n",
              "      <td>Édouard Cuyer</td>\n",
              "      <td>http://www.gutenberg.org/ebooks/38315</td>\n",
              "      <td>Animals-Wild</td>\n",
              "    </tr>\n",
              "    <tr>\n",
              "      <th>52</th>\n",
              "      <td>A Guide for the Study of Animals</td>\n",
              "      <td>Lucas, Shinn, Smallwood, and Whitney</td>\n",
              "      <td>http://www.gutenberg.org/ebooks/34984</td>\n",
              "      <td>Animals-Wild</td>\n",
              "    </tr>\n",
              "    <tr>\n",
              "      <th>53</th>\n",
              "      <td>Our Vanishing Wild Life: Its Extermination and...</td>\n",
              "      <td>William T. Hornaday</td>\n",
              "      <td>http://www.gutenberg.org/ebooks/13249</td>\n",
              "      <td>Animals-Wild</td>\n",
              "    </tr>\n",
              "    <tr>\n",
              "      <th>54</th>\n",
              "      <td>Ways of Nature</td>\n",
              "      <td>John Burroughs</td>\n",
              "      <td>http://www.gutenberg.org/ebooks/30249</td>\n",
              "      <td>Animals-Wild</td>\n",
              "    </tr>\n",
              "    <tr>\n",
              "      <th>55</th>\n",
              "      <td>The Human Side of Animals</td>\n",
              "      <td>Royal Dixon</td>\n",
              "      <td>http://www.gutenberg.org/ebooks/19850</td>\n",
              "      <td>Animals-Wild</td>\n",
              "    </tr>\n",
              "    <tr>\n",
              "      <th>56</th>\n",
              "      <td>The Wonders of the Jungle, Book One</td>\n",
              "      <td>Sarath Kumar Ghosh</td>\n",
              "      <td>http://www.gutenberg.org/ebooks/24852</td>\n",
              "      <td>Animals-Wild</td>\n",
              "    </tr>\n",
              "    <tr>\n",
              "      <th>57</th>\n",
              "      <td>Zoological Mythology; or, The Legends of Anima...</td>\n",
              "      <td>De Gubernatis</td>\n",
              "      <td>http://www.gutenberg.org/ebooks/38687</td>\n",
              "      <td>Animals-Wild</td>\n",
              "    </tr>\n",
              "    <tr>\n",
              "      <th>58</th>\n",
              "      <td>Wild Animals at Home</td>\n",
              "      <td>Ernest Thompson Seton</td>\n",
              "      <td>http://www.gutenberg.org/ebooks/27887</td>\n",
              "      <td>Animals-Wild</td>\n",
              "    </tr>\n",
              "    <tr>\n",
              "      <th>59</th>\n",
              "      <td>Ways of Wood Folk</td>\n",
              "      <td>William J. Long</td>\n",
              "      <td>http://www.gutenberg.org/ebooks/18193</td>\n",
              "      <td>Animals-Wild</td>\n",
              "    </tr>\n",
              "    <tr>\n",
              "      <th>60</th>\n",
              "      <td>Animals of the Past</td>\n",
              "      <td>Frederic A. Lucas</td>\n",
              "      <td>http://www.gutenberg.org/ebooks/38013</td>\n",
              "      <td>Animals-Wild</td>\n",
              "    </tr>\n",
              "  </tbody>\n",
              "</table>\n",
              "</div>\n",
              "      <button class=\"colab-df-convert\" onclick=\"convertToInteractive('df-08ec8181-d27e-4953-8b8e-88a6ff8975ce')\"\n",
              "              title=\"Convert this dataframe to an interactive table.\"\n",
              "              style=\"display:none;\">\n",
              "        \n",
              "  <svg xmlns=\"http://www.w3.org/2000/svg\" height=\"24px\"viewBox=\"0 0 24 24\"\n",
              "       width=\"24px\">\n",
              "    <path d=\"M0 0h24v24H0V0z\" fill=\"none\"/>\n",
              "    <path d=\"M18.56 5.44l.94 2.06.94-2.06 2.06-.94-2.06-.94-.94-2.06-.94 2.06-2.06.94zm-11 1L8.5 8.5l.94-2.06 2.06-.94-2.06-.94L8.5 2.5l-.94 2.06-2.06.94zm10 10l.94 2.06.94-2.06 2.06-.94-2.06-.94-.94-2.06-.94 2.06-2.06.94z\"/><path d=\"M17.41 7.96l-1.37-1.37c-.4-.4-.92-.59-1.43-.59-.52 0-1.04.2-1.43.59L10.3 9.45l-7.72 7.72c-.78.78-.78 2.05 0 2.83L4 21.41c.39.39.9.59 1.41.59.51 0 1.02-.2 1.41-.59l7.78-7.78 2.81-2.81c.8-.78.8-2.07 0-2.86zM5.41 20L4 18.59l7.72-7.72 1.47 1.35L5.41 20z\"/>\n",
              "  </svg>\n",
              "      </button>\n",
              "      \n",
              "  <style>\n",
              "    .colab-df-container {\n",
              "      display:flex;\n",
              "      flex-wrap:wrap;\n",
              "      gap: 12px;\n",
              "    }\n",
              "\n",
              "    .colab-df-convert {\n",
              "      background-color: #E8F0FE;\n",
              "      border: none;\n",
              "      border-radius: 50%;\n",
              "      cursor: pointer;\n",
              "      display: none;\n",
              "      fill: #1967D2;\n",
              "      height: 32px;\n",
              "      padding: 0 0 0 0;\n",
              "      width: 32px;\n",
              "    }\n",
              "\n",
              "    .colab-df-convert:hover {\n",
              "      background-color: #E2EBFA;\n",
              "      box-shadow: 0px 1px 2px rgba(60, 64, 67, 0.3), 0px 1px 3px 1px rgba(60, 64, 67, 0.15);\n",
              "      fill: #174EA6;\n",
              "    }\n",
              "\n",
              "    [theme=dark] .colab-df-convert {\n",
              "      background-color: #3B4455;\n",
              "      fill: #D2E3FC;\n",
              "    }\n",
              "\n",
              "    [theme=dark] .colab-df-convert:hover {\n",
              "      background-color: #434B5C;\n",
              "      box-shadow: 0px 1px 3px 1px rgba(0, 0, 0, 0.15);\n",
              "      filter: drop-shadow(0px 1px 2px rgba(0, 0, 0, 0.3));\n",
              "      fill: #FFFFFF;\n",
              "    }\n",
              "  </style>\n",
              "\n",
              "      <script>\n",
              "        const buttonEl =\n",
              "          document.querySelector('#df-08ec8181-d27e-4953-8b8e-88a6ff8975ce button.colab-df-convert');\n",
              "        buttonEl.style.display =\n",
              "          google.colab.kernel.accessAllowed ? 'block' : 'none';\n",
              "\n",
              "        async function convertToInteractive(key) {\n",
              "          const element = document.querySelector('#df-08ec8181-d27e-4953-8b8e-88a6ff8975ce');\n",
              "          const dataTable =\n",
              "            await google.colab.kernel.invokeFunction('convertToInteractive',\n",
              "                                                     [key], {});\n",
              "          if (!dataTable) return;\n",
              "\n",
              "          const docLinkHtml = 'Like what you see? Visit the ' +\n",
              "            '<a target=\"_blank\" href=https://colab.research.google.com/notebooks/data_table.ipynb>data table notebook</a>'\n",
              "            + ' to learn more about interactive tables.';\n",
              "          element.innerHTML = '';\n",
              "          dataTable['output_type'] = 'display_data';\n",
              "          await google.colab.output.renderOutput(dataTable, element);\n",
              "          const docLink = document.createElement('div');\n",
              "          docLink.innerHTML = docLinkHtml;\n",
              "          element.appendChild(docLink);\n",
              "        }\n",
              "      </script>\n",
              "    </div>\n",
              "  </div>\n",
              "  "
            ]
          },
          "metadata": {},
          "execution_count": 14
        }
      ]
    },
    {
      "cell_type": "code",
      "source": [
        "print(df_bookdata['Bookshelf'].unique())\n"
      ],
      "metadata": {
        "colab": {
          "base_uri": "https://localhost:8080/"
        },
        "id": "s0Bcpa37bAjS",
        "outputId": "46a0bca2-e424-406a-b0d4-684eb4d9d88a"
      },
      "execution_count": null,
      "outputs": [
        {
          "output_type": "stream",
          "name": "stdout",
          "text": [
            "['Animal' 'Animals-Domestic' 'Animals-Wild' 'Animals-Wild-Trapping'\n",
            " 'Animals-Wild-Birds' 'Animals-Wild-Insects' 'Animals-Wild-Mammals'\n",
            " 'Animals-Wild-Reptiles' 'Canada' \"Children's\" 'School' \"Child's\"\n",
            " 'Harvard' 'Classical' '6' 'Travel' 'Christmas' 'Italy' 'United' 'Norway'\n",
            " 'Bulgaria' 'Argentina' 'South' \"Women's\" 'New' 'France' 'Greece'\n",
            " 'Germany' 'Australia' 'Egypt' 'India' 'Africa' 'Crime' 'Mystery'\n",
            " 'Detective' 'Language' 'Education' 'General' 'Romantic' 'FR' 'Western'\n",
            " 'Erotic' 'Fantasy' 'Humor' 'Adventure' 'Science' 'Precursors' 'Horror'\n",
            " 'Historical' 'Gothic' 'The' 'Architecture' 'Art' 'Reference' 'IT' 'Czech'\n",
            " 'Maps' 'Camping' 'CIA' 'Anthropology' 'Folklore' 'Current' 'Natural'\n",
            " 'Archaeology' 'Biographies' 'German' 'Canon' 'Noteworthy' 'British'\n",
            " 'Music' 'Opera' 'Bibliomania' 'Witchcraft' 'Psychology' 'Philosophy'\n",
            " \"Bahá'í\" 'Islam' 'Buddhism' 'Latter' 'Hinduism' 'Atheism' 'Paganism'\n",
            " 'Mythology' 'Judaism' 'Christianity' 'Geology' 'Mycology' 'Microscopy'\n",
            " 'Journal' 'Microbiology' 'Physiology' 'Ecology' 'Zoology' 'Astronomy'\n",
            " 'Suffrage' 'Racism' 'Cookbooks' 'Technology' 'Botany' 'Physics'\n",
            " 'Anarchism' 'Crafts' 'English' 'Scientific' 'Biology' 'Transportation'\n",
            " 'Woodwork' 'Mathematics' 'Sociology' 'Manufacturing' 'Spanish'\n",
            " 'Chemistry' 'Slavery' 'Engineering' 'American' 'US' 'World' 'Boer' nan]\n"
          ]
        }
      ]
    },
    {
      "cell_type": "code",
      "source": [
        "df_bookdata['Bookshelf'].nunique()"
      ],
      "metadata": {
        "colab": {
          "base_uri": "https://localhost:8080/"
        },
        "id": "CQw5veHLb8Jh",
        "outputId": "20318cf2-71d8-4b41-dad4-5905f2b20384"
      },
      "execution_count": null,
      "outputs": [
        {
          "output_type": "execute_result",
          "data": {
            "text/plain": [
              "118"
            ]
          },
          "metadata": {},
          "execution_count": 16
        }
      ]
    },
    {
      "cell_type": "code",
      "source": [
        "df_bookdata['Bookshelf']= df_bookdata.Bookshelf.replace(dict.fromkeys(['Animal','Animals-Domestic','Animals-Wild','Animals-Wild-Trapping','Animals-Wild-Mammals'], 'Micheal'))"
      ],
      "metadata": {
        "id": "8gqZTNLBOCSQ"
      },
      "execution_count": null,
      "outputs": []
    },
    {
      "cell_type": "code",
      "source": [
        "df_bookdata['Bookshelf']= df_bookdata.Bookshelf.replace(dict.fromkeys([\"Children's\",\"Child's\"], 'Children'))"
      ],
      "metadata": {
        "id": "wKvgwLKDROAX"
      },
      "execution_count": null,
      "outputs": []
    },
    {
      "cell_type": "code",
      "source": [
        "df_bookdata.loc[df_bookdata['Bookshelf'] == '6']"
      ],
      "metadata": {
        "colab": {
          "base_uri": "https://localhost:8080/",
          "height": 833
        },
        "id": "QAbnGJ2pc5rj",
        "outputId": "8ef59b71-8345-4d93-fb7a-34a391ba2342"
      },
      "execution_count": null,
      "outputs": [
        {
          "output_type": "execute_result",
          "data": {
            "text/plain": [
              "                                                 Title  \\\n",
              "500                                        Don Quijote   \n",
              "501     The History of Don Quixote, Volume 1, Complete   \n",
              "502                    The Life of Lazarillo de Tormes   \n",
              "503     The History of Don Quixote, Volume 2, Complete   \n",
              "504                           Legends, Tales and Poems   \n",
              "505                                    Niebla (Nivola)   \n",
              "506      Fortunata y Jacinta: dos historias de casadas   \n",
              "507                                       La Celestina   \n",
              "508                                         La Regenta   \n",
              "509  Vida De Lazarillo De Tormes Y De Sus Fortunas ...   \n",
              "510                                     Fuente Ovejuna   \n",
              "511                                   Don Juan Tenorio   \n",
              "512                 Los cuatro jinetes del apocalipsis   \n",
              "513                          Romancero selecto del Cid   \n",
              "514                                  Páginas escogidas   \n",
              "515                            El Gaucho Martín Fierro   \n",
              "516                The Four Horsemen of the Apocalypse   \n",
              "517            The History of Don Quixote de la Mancha   \n",
              "518                                            Azul...   \n",
              "519                              Don Quixote, Volume 1   \n",
              "520  Historia de la vida del Buscón, llamado Don Pa...   \n",
              "521                                  Cantares gallegos   \n",
              "522                          La voz de la conseja, t.1   \n",
              "523                 Cecilia Valdés o la Loma del Ángel   \n",
              "524                               Tradiciones peruanas   \n",
              "\n",
              "                           Author                                   Link  \\\n",
              "500  Miguel de Cervantes Saavedra   http://www.gutenberg.org/ebooks/2000   \n",
              "501  Miguel de Cervantes Saavedra   http://www.gutenberg.org/ebooks/5921   \n",
              "502                     Anonymous  http://www.gutenberg.org/ebooks/53489   \n",
              "503  Miguel de Cervantes Saavedra   http://www.gutenberg.org/ebooks/5946   \n",
              "504        Gustavo Adolfo Bécquer  http://www.gutenberg.org/ebooks/10814   \n",
              "505             Miguel de Unamuno  http://www.gutenberg.org/ebooks/49836   \n",
              "506           Benito Pérez Galdós  http://www.gutenberg.org/ebooks/17013   \n",
              "507             Fernando de Rojas   http://www.gutenberg.org/ebooks/1619   \n",
              "508                 Leopoldo Alas  http://www.gutenberg.org/ebooks/17073   \n",
              "509                     Anonymous    http://www.gutenberg.org/ebooks/320   \n",
              "510                  Lope de Vega  http://www.gutenberg.org/ebooks/60198   \n",
              "511                 José Zorrilla   http://www.gutenberg.org/ebooks/5201   \n",
              "512         Vicente Blasco Ibáñez  http://www.gutenberg.org/ebooks/24536   \n",
              "513                     Anonymous  http://www.gutenberg.org/ebooks/57648   \n",
              "514               Antonio Machado  http://www.gutenberg.org/ebooks/49437   \n",
              "515                José Hernández  http://www.gutenberg.org/ebooks/14765   \n",
              "516         Vicente Blasco Ibáñez   http://www.gutenberg.org/ebooks/1484   \n",
              "517  Miguel de Cervantes Saavedra  http://www.gutenberg.org/ebooks/35993   \n",
              "518                   Rubén Darío  http://www.gutenberg.org/ebooks/52894   \n",
              "519  Miguel de Cervantes Saavedra  http://www.gutenberg.org/ebooks/28842   \n",
              "520                           NaN  http://www.gutenberg.org/ebooks/32315   \n",
              "521             Rosalía de Castro  http://www.gutenberg.org/ebooks/59037   \n",
              "522             Pío Baroja et al.  http://www.gutenberg.org/ebooks/40827   \n",
              "523             Cirilo Villaverde  http://www.gutenberg.org/ebooks/28281   \n",
              "524                 Ricardo Palma  http://www.gutenberg.org/ebooks/21282   \n",
              "\n",
              "    Bookshelf  \n",
              "500         6  \n",
              "501         6  \n",
              "502         6  \n",
              "503         6  \n",
              "504         6  \n",
              "505         6  \n",
              "506         6  \n",
              "507         6  \n",
              "508         6  \n",
              "509         6  \n",
              "510         6  \n",
              "511         6  \n",
              "512         6  \n",
              "513         6  \n",
              "514         6  \n",
              "515         6  \n",
              "516         6  \n",
              "517         6  \n",
              "518         6  \n",
              "519         6  \n",
              "520         6  \n",
              "521         6  \n",
              "522         6  \n",
              "523         6  \n",
              "524         6  "
            ],
            "text/html": [
              "\n",
              "  <div id=\"df-f46363ee-cbcd-490f-ab57-251d892b83ad\">\n",
              "    <div class=\"colab-df-container\">\n",
              "      <div>\n",
              "<style scoped>\n",
              "    .dataframe tbody tr th:only-of-type {\n",
              "        vertical-align: middle;\n",
              "    }\n",
              "\n",
              "    .dataframe tbody tr th {\n",
              "        vertical-align: top;\n",
              "    }\n",
              "\n",
              "    .dataframe thead th {\n",
              "        text-align: right;\n",
              "    }\n",
              "</style>\n",
              "<table border=\"1\" class=\"dataframe\">\n",
              "  <thead>\n",
              "    <tr style=\"text-align: right;\">\n",
              "      <th></th>\n",
              "      <th>Title</th>\n",
              "      <th>Author</th>\n",
              "      <th>Link</th>\n",
              "      <th>Bookshelf</th>\n",
              "    </tr>\n",
              "  </thead>\n",
              "  <tbody>\n",
              "    <tr>\n",
              "      <th>500</th>\n",
              "      <td>Don Quijote</td>\n",
              "      <td>Miguel de Cervantes Saavedra</td>\n",
              "      <td>http://www.gutenberg.org/ebooks/2000</td>\n",
              "      <td>6</td>\n",
              "    </tr>\n",
              "    <tr>\n",
              "      <th>501</th>\n",
              "      <td>The History of Don Quixote, Volume 1, Complete</td>\n",
              "      <td>Miguel de Cervantes Saavedra</td>\n",
              "      <td>http://www.gutenberg.org/ebooks/5921</td>\n",
              "      <td>6</td>\n",
              "    </tr>\n",
              "    <tr>\n",
              "      <th>502</th>\n",
              "      <td>The Life of Lazarillo de Tormes</td>\n",
              "      <td>Anonymous</td>\n",
              "      <td>http://www.gutenberg.org/ebooks/53489</td>\n",
              "      <td>6</td>\n",
              "    </tr>\n",
              "    <tr>\n",
              "      <th>503</th>\n",
              "      <td>The History of Don Quixote, Volume 2, Complete</td>\n",
              "      <td>Miguel de Cervantes Saavedra</td>\n",
              "      <td>http://www.gutenberg.org/ebooks/5946</td>\n",
              "      <td>6</td>\n",
              "    </tr>\n",
              "    <tr>\n",
              "      <th>504</th>\n",
              "      <td>Legends, Tales and Poems</td>\n",
              "      <td>Gustavo Adolfo Bécquer</td>\n",
              "      <td>http://www.gutenberg.org/ebooks/10814</td>\n",
              "      <td>6</td>\n",
              "    </tr>\n",
              "    <tr>\n",
              "      <th>505</th>\n",
              "      <td>Niebla (Nivola)</td>\n",
              "      <td>Miguel de Unamuno</td>\n",
              "      <td>http://www.gutenberg.org/ebooks/49836</td>\n",
              "      <td>6</td>\n",
              "    </tr>\n",
              "    <tr>\n",
              "      <th>506</th>\n",
              "      <td>Fortunata y Jacinta: dos historias de casadas</td>\n",
              "      <td>Benito Pérez Galdós</td>\n",
              "      <td>http://www.gutenberg.org/ebooks/17013</td>\n",
              "      <td>6</td>\n",
              "    </tr>\n",
              "    <tr>\n",
              "      <th>507</th>\n",
              "      <td>La Celestina</td>\n",
              "      <td>Fernando de Rojas</td>\n",
              "      <td>http://www.gutenberg.org/ebooks/1619</td>\n",
              "      <td>6</td>\n",
              "    </tr>\n",
              "    <tr>\n",
              "      <th>508</th>\n",
              "      <td>La Regenta</td>\n",
              "      <td>Leopoldo Alas</td>\n",
              "      <td>http://www.gutenberg.org/ebooks/17073</td>\n",
              "      <td>6</td>\n",
              "    </tr>\n",
              "    <tr>\n",
              "      <th>509</th>\n",
              "      <td>Vida De Lazarillo De Tormes Y De Sus Fortunas ...</td>\n",
              "      <td>Anonymous</td>\n",
              "      <td>http://www.gutenberg.org/ebooks/320</td>\n",
              "      <td>6</td>\n",
              "    </tr>\n",
              "    <tr>\n",
              "      <th>510</th>\n",
              "      <td>Fuente Ovejuna</td>\n",
              "      <td>Lope de Vega</td>\n",
              "      <td>http://www.gutenberg.org/ebooks/60198</td>\n",
              "      <td>6</td>\n",
              "    </tr>\n",
              "    <tr>\n",
              "      <th>511</th>\n",
              "      <td>Don Juan Tenorio</td>\n",
              "      <td>José Zorrilla</td>\n",
              "      <td>http://www.gutenberg.org/ebooks/5201</td>\n",
              "      <td>6</td>\n",
              "    </tr>\n",
              "    <tr>\n",
              "      <th>512</th>\n",
              "      <td>Los cuatro jinetes del apocalipsis</td>\n",
              "      <td>Vicente Blasco Ibáñez</td>\n",
              "      <td>http://www.gutenberg.org/ebooks/24536</td>\n",
              "      <td>6</td>\n",
              "    </tr>\n",
              "    <tr>\n",
              "      <th>513</th>\n",
              "      <td>Romancero selecto del Cid</td>\n",
              "      <td>Anonymous</td>\n",
              "      <td>http://www.gutenberg.org/ebooks/57648</td>\n",
              "      <td>6</td>\n",
              "    </tr>\n",
              "    <tr>\n",
              "      <th>514</th>\n",
              "      <td>Páginas escogidas</td>\n",
              "      <td>Antonio Machado</td>\n",
              "      <td>http://www.gutenberg.org/ebooks/49437</td>\n",
              "      <td>6</td>\n",
              "    </tr>\n",
              "    <tr>\n",
              "      <th>515</th>\n",
              "      <td>El Gaucho Martín Fierro</td>\n",
              "      <td>José Hernández</td>\n",
              "      <td>http://www.gutenberg.org/ebooks/14765</td>\n",
              "      <td>6</td>\n",
              "    </tr>\n",
              "    <tr>\n",
              "      <th>516</th>\n",
              "      <td>The Four Horsemen of the Apocalypse</td>\n",
              "      <td>Vicente Blasco Ibáñez</td>\n",
              "      <td>http://www.gutenberg.org/ebooks/1484</td>\n",
              "      <td>6</td>\n",
              "    </tr>\n",
              "    <tr>\n",
              "      <th>517</th>\n",
              "      <td>The History of Don Quixote de la Mancha</td>\n",
              "      <td>Miguel de Cervantes Saavedra</td>\n",
              "      <td>http://www.gutenberg.org/ebooks/35993</td>\n",
              "      <td>6</td>\n",
              "    </tr>\n",
              "    <tr>\n",
              "      <th>518</th>\n",
              "      <td>Azul...</td>\n",
              "      <td>Rubén Darío</td>\n",
              "      <td>http://www.gutenberg.org/ebooks/52894</td>\n",
              "      <td>6</td>\n",
              "    </tr>\n",
              "    <tr>\n",
              "      <th>519</th>\n",
              "      <td>Don Quixote, Volume 1</td>\n",
              "      <td>Miguel de Cervantes Saavedra</td>\n",
              "      <td>http://www.gutenberg.org/ebooks/28842</td>\n",
              "      <td>6</td>\n",
              "    </tr>\n",
              "    <tr>\n",
              "      <th>520</th>\n",
              "      <td>Historia de la vida del Buscón, llamado Don Pa...</td>\n",
              "      <td>NaN</td>\n",
              "      <td>http://www.gutenberg.org/ebooks/32315</td>\n",
              "      <td>6</td>\n",
              "    </tr>\n",
              "    <tr>\n",
              "      <th>521</th>\n",
              "      <td>Cantares gallegos</td>\n",
              "      <td>Rosalía de Castro</td>\n",
              "      <td>http://www.gutenberg.org/ebooks/59037</td>\n",
              "      <td>6</td>\n",
              "    </tr>\n",
              "    <tr>\n",
              "      <th>522</th>\n",
              "      <td>La voz de la conseja, t.1</td>\n",
              "      <td>Pío Baroja et al.</td>\n",
              "      <td>http://www.gutenberg.org/ebooks/40827</td>\n",
              "      <td>6</td>\n",
              "    </tr>\n",
              "    <tr>\n",
              "      <th>523</th>\n",
              "      <td>Cecilia Valdés o la Loma del Ángel</td>\n",
              "      <td>Cirilo Villaverde</td>\n",
              "      <td>http://www.gutenberg.org/ebooks/28281</td>\n",
              "      <td>6</td>\n",
              "    </tr>\n",
              "    <tr>\n",
              "      <th>524</th>\n",
              "      <td>Tradiciones peruanas</td>\n",
              "      <td>Ricardo Palma</td>\n",
              "      <td>http://www.gutenberg.org/ebooks/21282</td>\n",
              "      <td>6</td>\n",
              "    </tr>\n",
              "  </tbody>\n",
              "</table>\n",
              "</div>\n",
              "      <button class=\"colab-df-convert\" onclick=\"convertToInteractive('df-f46363ee-cbcd-490f-ab57-251d892b83ad')\"\n",
              "              title=\"Convert this dataframe to an interactive table.\"\n",
              "              style=\"display:none;\">\n",
              "        \n",
              "  <svg xmlns=\"http://www.w3.org/2000/svg\" height=\"24px\"viewBox=\"0 0 24 24\"\n",
              "       width=\"24px\">\n",
              "    <path d=\"M0 0h24v24H0V0z\" fill=\"none\"/>\n",
              "    <path d=\"M18.56 5.44l.94 2.06.94-2.06 2.06-.94-2.06-.94-.94-2.06-.94 2.06-2.06.94zm-11 1L8.5 8.5l.94-2.06 2.06-.94-2.06-.94L8.5 2.5l-.94 2.06-2.06.94zm10 10l.94 2.06.94-2.06 2.06-.94-2.06-.94-.94-2.06-.94 2.06-2.06.94z\"/><path d=\"M17.41 7.96l-1.37-1.37c-.4-.4-.92-.59-1.43-.59-.52 0-1.04.2-1.43.59L10.3 9.45l-7.72 7.72c-.78.78-.78 2.05 0 2.83L4 21.41c.39.39.9.59 1.41.59.51 0 1.02-.2 1.41-.59l7.78-7.78 2.81-2.81c.8-.78.8-2.07 0-2.86zM5.41 20L4 18.59l7.72-7.72 1.47 1.35L5.41 20z\"/>\n",
              "  </svg>\n",
              "      </button>\n",
              "      \n",
              "  <style>\n",
              "    .colab-df-container {\n",
              "      display:flex;\n",
              "      flex-wrap:wrap;\n",
              "      gap: 12px;\n",
              "    }\n",
              "\n",
              "    .colab-df-convert {\n",
              "      background-color: #E8F0FE;\n",
              "      border: none;\n",
              "      border-radius: 50%;\n",
              "      cursor: pointer;\n",
              "      display: none;\n",
              "      fill: #1967D2;\n",
              "      height: 32px;\n",
              "      padding: 0 0 0 0;\n",
              "      width: 32px;\n",
              "    }\n",
              "\n",
              "    .colab-df-convert:hover {\n",
              "      background-color: #E2EBFA;\n",
              "      box-shadow: 0px 1px 2px rgba(60, 64, 67, 0.3), 0px 1px 3px 1px rgba(60, 64, 67, 0.15);\n",
              "      fill: #174EA6;\n",
              "    }\n",
              "\n",
              "    [theme=dark] .colab-df-convert {\n",
              "      background-color: #3B4455;\n",
              "      fill: #D2E3FC;\n",
              "    }\n",
              "\n",
              "    [theme=dark] .colab-df-convert:hover {\n",
              "      background-color: #434B5C;\n",
              "      box-shadow: 0px 1px 3px 1px rgba(0, 0, 0, 0.15);\n",
              "      filter: drop-shadow(0px 1px 2px rgba(0, 0, 0, 0.3));\n",
              "      fill: #FFFFFF;\n",
              "    }\n",
              "  </style>\n",
              "\n",
              "      <script>\n",
              "        const buttonEl =\n",
              "          document.querySelector('#df-f46363ee-cbcd-490f-ab57-251d892b83ad button.colab-df-convert');\n",
              "        buttonEl.style.display =\n",
              "          google.colab.kernel.accessAllowed ? 'block' : 'none';\n",
              "\n",
              "        async function convertToInteractive(key) {\n",
              "          const element = document.querySelector('#df-f46363ee-cbcd-490f-ab57-251d892b83ad');\n",
              "          const dataTable =\n",
              "            await google.colab.kernel.invokeFunction('convertToInteractive',\n",
              "                                                     [key], {});\n",
              "          if (!dataTable) return;\n",
              "\n",
              "          const docLinkHtml = 'Like what you see? Visit the ' +\n",
              "            '<a target=\"_blank\" href=https://colab.research.google.com/notebooks/data_table.ipynb>data table notebook</a>'\n",
              "            + ' to learn more about interactive tables.';\n",
              "          element.innerHTML = '';\n",
              "          dataTable['output_type'] = 'display_data';\n",
              "          await google.colab.output.renderOutput(dataTable, element);\n",
              "          const docLink = document.createElement('div');\n",
              "          docLink.innerHTML = docLinkHtml;\n",
              "          element.appendChild(docLink);\n",
              "        }\n",
              "      </script>\n",
              "    </div>\n",
              "  </div>\n",
              "  "
            ]
          },
          "metadata": {},
          "execution_count": 26
        }
      ]
    },
    {
      "cell_type": "code",
      "source": [
        "df_bookdata.loc[df_bookdata[\"Bookshelf\"] == \"6\", \"Bookshelf\"] = 'Historical'"
      ],
      "metadata": {
        "id": "faKXh-Aad24S"
      },
      "execution_count": null,
      "outputs": []
    },
    {
      "cell_type": "code",
      "source": [
        "df_bookdata.tail(10)"
      ],
      "metadata": {
        "colab": {
          "base_uri": "https://localhost:8080/",
          "height": 363
        },
        "id": "f7QgLGHRaDxA",
        "outputId": "fc29b677-34d7-4a9d-c642-d0daf1eddb5d"
      },
      "execution_count": null,
      "outputs": [
        {
          "output_type": "execute_result",
          "data": {
            "text/plain": [
              "                            Title                Author  \\\n",
              "15321            Unbegotten Child      Winston K. Marks   \n",
              "15322  A Transmutation of Muddles            H. B. Fyfe   \n",
              "15323                The Marooner    Charles A. Stearns   \n",
              "15324              Disturbing Sun  Robert S. Richardson   \n",
              "15325  Untechnological Employment         Ed M. Clinton   \n",
              "15326                  Psichopath       Randall Garrett   \n",
              "15327                Poisoned Air            S. P. Meek   \n",
              "15328       Cry from a Far Planet            Tom Godwin   \n",
              "15329             Spies Die Hard!         Arnold Marmor   \n",
              "15330                The Doomsman    Van Tassel Sutphen   \n",
              "\n",
              "                                        Link Bookshelf  \n",
              "15321  http://www.gutenberg.org/ebooks/32149       NaN  \n",
              "15322  http://www.gutenberg.org/ebooks/24187       NaN  \n",
              "15323  http://www.gutenberg.org/ebooks/24791       NaN  \n",
              "15324  http://www.gutenberg.org/ebooks/24150       NaN  \n",
              "15325  http://www.gutenberg.org/ebooks/23147       NaN  \n",
              "15326  http://www.gutenberg.org/ebooks/30304       NaN  \n",
              "15327  http://www.gutenberg.org/ebooks/29069       NaN  \n",
              "15328  http://www.gutenberg.org/ebooks/23799       NaN  \n",
              "15329  http://www.gutenberg.org/ebooks/30383       NaN  \n",
              "15330  http://www.gutenberg.org/ebooks/27730       NaN  "
            ],
            "text/html": [
              "\n",
              "  <div id=\"df-c24e1414-b9a3-4ca9-b486-3a8cf2596804\">\n",
              "    <div class=\"colab-df-container\">\n",
              "      <div>\n",
              "<style scoped>\n",
              "    .dataframe tbody tr th:only-of-type {\n",
              "        vertical-align: middle;\n",
              "    }\n",
              "\n",
              "    .dataframe tbody tr th {\n",
              "        vertical-align: top;\n",
              "    }\n",
              "\n",
              "    .dataframe thead th {\n",
              "        text-align: right;\n",
              "    }\n",
              "</style>\n",
              "<table border=\"1\" class=\"dataframe\">\n",
              "  <thead>\n",
              "    <tr style=\"text-align: right;\">\n",
              "      <th></th>\n",
              "      <th>Title</th>\n",
              "      <th>Author</th>\n",
              "      <th>Link</th>\n",
              "      <th>Bookshelf</th>\n",
              "    </tr>\n",
              "  </thead>\n",
              "  <tbody>\n",
              "    <tr>\n",
              "      <th>15321</th>\n",
              "      <td>Unbegotten Child</td>\n",
              "      <td>Winston K. Marks</td>\n",
              "      <td>http://www.gutenberg.org/ebooks/32149</td>\n",
              "      <td>NaN</td>\n",
              "    </tr>\n",
              "    <tr>\n",
              "      <th>15322</th>\n",
              "      <td>A Transmutation of Muddles</td>\n",
              "      <td>H. B. Fyfe</td>\n",
              "      <td>http://www.gutenberg.org/ebooks/24187</td>\n",
              "      <td>NaN</td>\n",
              "    </tr>\n",
              "    <tr>\n",
              "      <th>15323</th>\n",
              "      <td>The Marooner</td>\n",
              "      <td>Charles A. Stearns</td>\n",
              "      <td>http://www.gutenberg.org/ebooks/24791</td>\n",
              "      <td>NaN</td>\n",
              "    </tr>\n",
              "    <tr>\n",
              "      <th>15324</th>\n",
              "      <td>Disturbing Sun</td>\n",
              "      <td>Robert S. Richardson</td>\n",
              "      <td>http://www.gutenberg.org/ebooks/24150</td>\n",
              "      <td>NaN</td>\n",
              "    </tr>\n",
              "    <tr>\n",
              "      <th>15325</th>\n",
              "      <td>Untechnological Employment</td>\n",
              "      <td>Ed M. Clinton</td>\n",
              "      <td>http://www.gutenberg.org/ebooks/23147</td>\n",
              "      <td>NaN</td>\n",
              "    </tr>\n",
              "    <tr>\n",
              "      <th>15326</th>\n",
              "      <td>Psichopath</td>\n",
              "      <td>Randall Garrett</td>\n",
              "      <td>http://www.gutenberg.org/ebooks/30304</td>\n",
              "      <td>NaN</td>\n",
              "    </tr>\n",
              "    <tr>\n",
              "      <th>15327</th>\n",
              "      <td>Poisoned Air</td>\n",
              "      <td>S. P. Meek</td>\n",
              "      <td>http://www.gutenberg.org/ebooks/29069</td>\n",
              "      <td>NaN</td>\n",
              "    </tr>\n",
              "    <tr>\n",
              "      <th>15328</th>\n",
              "      <td>Cry from a Far Planet</td>\n",
              "      <td>Tom Godwin</td>\n",
              "      <td>http://www.gutenberg.org/ebooks/23799</td>\n",
              "      <td>NaN</td>\n",
              "    </tr>\n",
              "    <tr>\n",
              "      <th>15329</th>\n",
              "      <td>Spies Die Hard!</td>\n",
              "      <td>Arnold Marmor</td>\n",
              "      <td>http://www.gutenberg.org/ebooks/30383</td>\n",
              "      <td>NaN</td>\n",
              "    </tr>\n",
              "    <tr>\n",
              "      <th>15330</th>\n",
              "      <td>The Doomsman</td>\n",
              "      <td>Van Tassel Sutphen</td>\n",
              "      <td>http://www.gutenberg.org/ebooks/27730</td>\n",
              "      <td>NaN</td>\n",
              "    </tr>\n",
              "  </tbody>\n",
              "</table>\n",
              "</div>\n",
              "      <button class=\"colab-df-convert\" onclick=\"convertToInteractive('df-c24e1414-b9a3-4ca9-b486-3a8cf2596804')\"\n",
              "              title=\"Convert this dataframe to an interactive table.\"\n",
              "              style=\"display:none;\">\n",
              "        \n",
              "  <svg xmlns=\"http://www.w3.org/2000/svg\" height=\"24px\"viewBox=\"0 0 24 24\"\n",
              "       width=\"24px\">\n",
              "    <path d=\"M0 0h24v24H0V0z\" fill=\"none\"/>\n",
              "    <path d=\"M18.56 5.44l.94 2.06.94-2.06 2.06-.94-2.06-.94-.94-2.06-.94 2.06-2.06.94zm-11 1L8.5 8.5l.94-2.06 2.06-.94-2.06-.94L8.5 2.5l-.94 2.06-2.06.94zm10 10l.94 2.06.94-2.06 2.06-.94-2.06-.94-.94-2.06-.94 2.06-2.06.94z\"/><path d=\"M17.41 7.96l-1.37-1.37c-.4-.4-.92-.59-1.43-.59-.52 0-1.04.2-1.43.59L10.3 9.45l-7.72 7.72c-.78.78-.78 2.05 0 2.83L4 21.41c.39.39.9.59 1.41.59.51 0 1.02-.2 1.41-.59l7.78-7.78 2.81-2.81c.8-.78.8-2.07 0-2.86zM5.41 20L4 18.59l7.72-7.72 1.47 1.35L5.41 20z\"/>\n",
              "  </svg>\n",
              "      </button>\n",
              "      \n",
              "  <style>\n",
              "    .colab-df-container {\n",
              "      display:flex;\n",
              "      flex-wrap:wrap;\n",
              "      gap: 12px;\n",
              "    }\n",
              "\n",
              "    .colab-df-convert {\n",
              "      background-color: #E8F0FE;\n",
              "      border: none;\n",
              "      border-radius: 50%;\n",
              "      cursor: pointer;\n",
              "      display: none;\n",
              "      fill: #1967D2;\n",
              "      height: 32px;\n",
              "      padding: 0 0 0 0;\n",
              "      width: 32px;\n",
              "    }\n",
              "\n",
              "    .colab-df-convert:hover {\n",
              "      background-color: #E2EBFA;\n",
              "      box-shadow: 0px 1px 2px rgba(60, 64, 67, 0.3), 0px 1px 3px 1px rgba(60, 64, 67, 0.15);\n",
              "      fill: #174EA6;\n",
              "    }\n",
              "\n",
              "    [theme=dark] .colab-df-convert {\n",
              "      background-color: #3B4455;\n",
              "      fill: #D2E3FC;\n",
              "    }\n",
              "\n",
              "    [theme=dark] .colab-df-convert:hover {\n",
              "      background-color: #434B5C;\n",
              "      box-shadow: 0px 1px 3px 1px rgba(0, 0, 0, 0.15);\n",
              "      filter: drop-shadow(0px 1px 2px rgba(0, 0, 0, 0.3));\n",
              "      fill: #FFFFFF;\n",
              "    }\n",
              "  </style>\n",
              "\n",
              "      <script>\n",
              "        const buttonEl =\n",
              "          document.querySelector('#df-c24e1414-b9a3-4ca9-b486-3a8cf2596804 button.colab-df-convert');\n",
              "        buttonEl.style.display =\n",
              "          google.colab.kernel.accessAllowed ? 'block' : 'none';\n",
              "\n",
              "        async function convertToInteractive(key) {\n",
              "          const element = document.querySelector('#df-c24e1414-b9a3-4ca9-b486-3a8cf2596804');\n",
              "          const dataTable =\n",
              "            await google.colab.kernel.invokeFunction('convertToInteractive',\n",
              "                                                     [key], {});\n",
              "          if (!dataTable) return;\n",
              "\n",
              "          const docLinkHtml = 'Like what you see? Visit the ' +\n",
              "            '<a target=\"_blank\" href=https://colab.research.google.com/notebooks/data_table.ipynb>data table notebook</a>'\n",
              "            + ' to learn more about interactive tables.';\n",
              "          element.innerHTML = '';\n",
              "          dataTable['output_type'] = 'display_data';\n",
              "          await google.colab.output.renderOutput(dataTable, element);\n",
              "          const docLink = document.createElement('div');\n",
              "          docLink.innerHTML = docLinkHtml;\n",
              "          element.appendChild(docLink);\n",
              "        }\n",
              "      </script>\n",
              "    </div>\n",
              "  </div>\n",
              "  "
            ]
          },
          "metadata": {},
          "execution_count": 28
        }
      ]
    },
    {
      "cell_type": "code",
      "source": [
        "df_bookdata['Bookshelf'] = df_bookdata['Bookshelf'].replace(np.nan, 'General')"
      ],
      "metadata": {
        "id": "pB4UbCoUeRJV"
      },
      "execution_count": null,
      "outputs": []
    },
    {
      "cell_type": "code",
      "source": [
        "df_bookdata['Bookshelf'].nunique()"
      ],
      "metadata": {
        "colab": {
          "base_uri": "https://localhost:8080/"
        },
        "id": "-JkKMn2Eehgu",
        "outputId": "68572860-647e-4051-a8ae-150a1acd39bf"
      },
      "execution_count": null,
      "outputs": [
        {
          "output_type": "execute_result",
          "data": {
            "text/plain": [
              "112"
            ]
          },
          "metadata": {},
          "execution_count": 30
        }
      ]
    },
    {
      "cell_type": "code",
      "source": [
        "print(df_bookdata['Bookshelf'].unique())\n"
      ],
      "metadata": {
        "colab": {
          "base_uri": "https://localhost:8080/"
        },
        "id": "vLaQ9qCfeoAK",
        "outputId": "6b116455-6050-419a-bb21-301f62bda959"
      },
      "execution_count": null,
      "outputs": [
        {
          "output_type": "stream",
          "name": "stdout",
          "text": [
            "['Micheal' 'Animals-Wild-Birds' 'Animals-Wild-Insects'\n",
            " 'Animals-Wild-Reptiles' 'Canada' 'Children' 'School' 'Harvard'\n",
            " 'Classical' 'Historical' 'Travel' 'Christmas' 'Italy' 'United' 'Norway'\n",
            " 'Bulgaria' 'Argentina' 'South' \"Women's\" 'New' 'France' 'Greece'\n",
            " 'Germany' 'Australia' 'Egypt' 'India' 'Africa' 'Crime' 'Mystery'\n",
            " 'Detective' 'Language' 'Education' 'General' 'Romantic' 'FR' 'Western'\n",
            " 'Erotic' 'Fantasy' 'Humor' 'Adventure' 'Science' 'Precursors' 'Horror'\n",
            " 'Gothic' 'The' 'Architecture' 'Art' 'Reference' 'IT' 'Czech' 'Maps'\n",
            " 'Camping' 'CIA' 'Anthropology' 'Folklore' 'Current' 'Natural'\n",
            " 'Archaeology' 'Biographies' 'German' 'Canon' 'Noteworthy' 'British'\n",
            " 'Music' 'Opera' 'Bibliomania' 'Witchcraft' 'Psychology' 'Philosophy'\n",
            " \"Bahá'í\" 'Islam' 'Buddhism' 'Latter' 'Hinduism' 'Atheism' 'Paganism'\n",
            " 'Mythology' 'Judaism' 'Christianity' 'Geology' 'Mycology' 'Microscopy'\n",
            " 'Journal' 'Microbiology' 'Physiology' 'Ecology' 'Zoology' 'Astronomy'\n",
            " 'Suffrage' 'Racism' 'Cookbooks' 'Technology' 'Botany' 'Physics'\n",
            " 'Anarchism' 'Crafts' 'English' 'Scientific' 'Biology' 'Transportation'\n",
            " 'Woodwork' 'Mathematics' 'Sociology' 'Manufacturing' 'Spanish'\n",
            " 'Chemistry' 'Slavery' 'Engineering' 'American' 'US' 'World' 'Boer']\n"
          ]
        }
      ]
    },
    {
      "cell_type": "code",
      "source": [
        "df_processed= df_bookdata.groupby('Bookshelf').filter(lambda x: len(x)>1 )\n"
      ],
      "metadata": {
        "id": "E9nR3VBu4m-l"
      },
      "execution_count": null,
      "outputs": []
    },
    {
      "cell_type": "code",
      "source": [
        "df_processed['Bookshelf'].nunique()"
      ],
      "metadata": {
        "colab": {
          "base_uri": "https://localhost:8080/"
        },
        "id": "sQ3T4RHy49hC",
        "outputId": "7b6f16b2-b062-4d77-be19-cba7629c243d"
      },
      "execution_count": null,
      "outputs": [
        {
          "output_type": "execute_result",
          "data": {
            "text/plain": [
              "110"
            ]
          },
          "metadata": {},
          "execution_count": 33
        }
      ]
    },
    {
      "cell_type": "code",
      "source": [
        "df_processed.head()"
      ],
      "metadata": {
        "colab": {
          "base_uri": "https://localhost:8080/",
          "height": 206
        },
        "id": "oEtRU7a2eunM",
        "outputId": "fb6dafb3-a83d-4343-89b2-76f3c6cd376d"
      },
      "execution_count": null,
      "outputs": [
        {
          "output_type": "execute_result",
          "data": {
            "text/plain": [
              "                                          Title  \\\n",
              "0       The Extermination of the American Bison   \n",
              "1                          Deadfalls and Snares   \n",
              "2                   Artistic Anatomy of Animals   \n",
              "3                            Birds, Illustrated   \n",
              "4  On Snake-Poison: Its Action and Its Antidote   \n",
              "\n",
              "                                     Author  \\\n",
              "0                       William T. Hornaday   \n",
              "1                             A. R. Harding   \n",
              "2                             Édouard Cuyer   \n",
              "3  Color Photography, Vol. 1, No. 1 Various   \n",
              "4                                A. Mueller   \n",
              "\n",
              "                                    Link Bookshelf  \n",
              "0  http://www.gutenberg.org/ebooks/17748   Micheal  \n",
              "1  http://www.gutenberg.org/ebooks/34110   Micheal  \n",
              "2  http://www.gutenberg.org/ebooks/38315   Micheal  \n",
              "3  http://www.gutenberg.org/ebooks/30221   Micheal  \n",
              "4  http://www.gutenberg.org/ebooks/32947   Micheal  "
            ],
            "text/html": [
              "\n",
              "  <div id=\"df-f2926af8-6227-49ba-833a-1521c187fe28\">\n",
              "    <div class=\"colab-df-container\">\n",
              "      <div>\n",
              "<style scoped>\n",
              "    .dataframe tbody tr th:only-of-type {\n",
              "        vertical-align: middle;\n",
              "    }\n",
              "\n",
              "    .dataframe tbody tr th {\n",
              "        vertical-align: top;\n",
              "    }\n",
              "\n",
              "    .dataframe thead th {\n",
              "        text-align: right;\n",
              "    }\n",
              "</style>\n",
              "<table border=\"1\" class=\"dataframe\">\n",
              "  <thead>\n",
              "    <tr style=\"text-align: right;\">\n",
              "      <th></th>\n",
              "      <th>Title</th>\n",
              "      <th>Author</th>\n",
              "      <th>Link</th>\n",
              "      <th>Bookshelf</th>\n",
              "    </tr>\n",
              "  </thead>\n",
              "  <tbody>\n",
              "    <tr>\n",
              "      <th>0</th>\n",
              "      <td>The Extermination of the American Bison</td>\n",
              "      <td>William T. Hornaday</td>\n",
              "      <td>http://www.gutenberg.org/ebooks/17748</td>\n",
              "      <td>Micheal</td>\n",
              "    </tr>\n",
              "    <tr>\n",
              "      <th>1</th>\n",
              "      <td>Deadfalls and Snares</td>\n",
              "      <td>A. R. Harding</td>\n",
              "      <td>http://www.gutenberg.org/ebooks/34110</td>\n",
              "      <td>Micheal</td>\n",
              "    </tr>\n",
              "    <tr>\n",
              "      <th>2</th>\n",
              "      <td>Artistic Anatomy of Animals</td>\n",
              "      <td>Édouard Cuyer</td>\n",
              "      <td>http://www.gutenberg.org/ebooks/38315</td>\n",
              "      <td>Micheal</td>\n",
              "    </tr>\n",
              "    <tr>\n",
              "      <th>3</th>\n",
              "      <td>Birds, Illustrated</td>\n",
              "      <td>Color Photography, Vol. 1, No. 1 Various</td>\n",
              "      <td>http://www.gutenberg.org/ebooks/30221</td>\n",
              "      <td>Micheal</td>\n",
              "    </tr>\n",
              "    <tr>\n",
              "      <th>4</th>\n",
              "      <td>On Snake-Poison: Its Action and Its Antidote</td>\n",
              "      <td>A. Mueller</td>\n",
              "      <td>http://www.gutenberg.org/ebooks/32947</td>\n",
              "      <td>Micheal</td>\n",
              "    </tr>\n",
              "  </tbody>\n",
              "</table>\n",
              "</div>\n",
              "      <button class=\"colab-df-convert\" onclick=\"convertToInteractive('df-f2926af8-6227-49ba-833a-1521c187fe28')\"\n",
              "              title=\"Convert this dataframe to an interactive table.\"\n",
              "              style=\"display:none;\">\n",
              "        \n",
              "  <svg xmlns=\"http://www.w3.org/2000/svg\" height=\"24px\"viewBox=\"0 0 24 24\"\n",
              "       width=\"24px\">\n",
              "    <path d=\"M0 0h24v24H0V0z\" fill=\"none\"/>\n",
              "    <path d=\"M18.56 5.44l.94 2.06.94-2.06 2.06-.94-2.06-.94-.94-2.06-.94 2.06-2.06.94zm-11 1L8.5 8.5l.94-2.06 2.06-.94-2.06-.94L8.5 2.5l-.94 2.06-2.06.94zm10 10l.94 2.06.94-2.06 2.06-.94-2.06-.94-.94-2.06-.94 2.06-2.06.94z\"/><path d=\"M17.41 7.96l-1.37-1.37c-.4-.4-.92-.59-1.43-.59-.52 0-1.04.2-1.43.59L10.3 9.45l-7.72 7.72c-.78.78-.78 2.05 0 2.83L4 21.41c.39.39.9.59 1.41.59.51 0 1.02-.2 1.41-.59l7.78-7.78 2.81-2.81c.8-.78.8-2.07 0-2.86zM5.41 20L4 18.59l7.72-7.72 1.47 1.35L5.41 20z\"/>\n",
              "  </svg>\n",
              "      </button>\n",
              "      \n",
              "  <style>\n",
              "    .colab-df-container {\n",
              "      display:flex;\n",
              "      flex-wrap:wrap;\n",
              "      gap: 12px;\n",
              "    }\n",
              "\n",
              "    .colab-df-convert {\n",
              "      background-color: #E8F0FE;\n",
              "      border: none;\n",
              "      border-radius: 50%;\n",
              "      cursor: pointer;\n",
              "      display: none;\n",
              "      fill: #1967D2;\n",
              "      height: 32px;\n",
              "      padding: 0 0 0 0;\n",
              "      width: 32px;\n",
              "    }\n",
              "\n",
              "    .colab-df-convert:hover {\n",
              "      background-color: #E2EBFA;\n",
              "      box-shadow: 0px 1px 2px rgba(60, 64, 67, 0.3), 0px 1px 3px 1px rgba(60, 64, 67, 0.15);\n",
              "      fill: #174EA6;\n",
              "    }\n",
              "\n",
              "    [theme=dark] .colab-df-convert {\n",
              "      background-color: #3B4455;\n",
              "      fill: #D2E3FC;\n",
              "    }\n",
              "\n",
              "    [theme=dark] .colab-df-convert:hover {\n",
              "      background-color: #434B5C;\n",
              "      box-shadow: 0px 1px 3px 1px rgba(0, 0, 0, 0.15);\n",
              "      filter: drop-shadow(0px 1px 2px rgba(0, 0, 0, 0.3));\n",
              "      fill: #FFFFFF;\n",
              "    }\n",
              "  </style>\n",
              "\n",
              "      <script>\n",
              "        const buttonEl =\n",
              "          document.querySelector('#df-f2926af8-6227-49ba-833a-1521c187fe28 button.colab-df-convert');\n",
              "        buttonEl.style.display =\n",
              "          google.colab.kernel.accessAllowed ? 'block' : 'none';\n",
              "\n",
              "        async function convertToInteractive(key) {\n",
              "          const element = document.querySelector('#df-f2926af8-6227-49ba-833a-1521c187fe28');\n",
              "          const dataTable =\n",
              "            await google.colab.kernel.invokeFunction('convertToInteractive',\n",
              "                                                     [key], {});\n",
              "          if (!dataTable) return;\n",
              "\n",
              "          const docLinkHtml = 'Like what you see? Visit the ' +\n",
              "            '<a target=\"_blank\" href=https://colab.research.google.com/notebooks/data_table.ipynb>data table notebook</a>'\n",
              "            + ' to learn more about interactive tables.';\n",
              "          element.innerHTML = '';\n",
              "          dataTable['output_type'] = 'display_data';\n",
              "          await google.colab.output.renderOutput(dataTable, element);\n",
              "          const docLink = document.createElement('div');\n",
              "          docLink.innerHTML = docLinkHtml;\n",
              "          element.appendChild(docLink);\n",
              "        }\n",
              "      </script>\n",
              "    </div>\n",
              "  </div>\n",
              "  "
            ]
          },
          "metadata": {},
          "execution_count": 34
        }
      ]
    },
    {
      "cell_type": "code",
      "source": [
        "df_processed.tail()"
      ],
      "metadata": {
        "colab": {
          "base_uri": "https://localhost:8080/",
          "height": 206
        },
        "id": "n3lHWfZPeyU1",
        "outputId": "d3804a0f-b88e-4a5a-bf8d-5923089b0fde"
      },
      "execution_count": null,
      "outputs": [
        {
          "output_type": "execute_result",
          "data": {
            "text/plain": [
              "                       Title              Author  \\\n",
              "15326             Psichopath     Randall Garrett   \n",
              "15327           Poisoned Air          S. P. Meek   \n",
              "15328  Cry from a Far Planet          Tom Godwin   \n",
              "15329        Spies Die Hard!       Arnold Marmor   \n",
              "15330           The Doomsman  Van Tassel Sutphen   \n",
              "\n",
              "                                        Link Bookshelf  \n",
              "15326  http://www.gutenberg.org/ebooks/30304   General  \n",
              "15327  http://www.gutenberg.org/ebooks/29069   General  \n",
              "15328  http://www.gutenberg.org/ebooks/23799   General  \n",
              "15329  http://www.gutenberg.org/ebooks/30383   General  \n",
              "15330  http://www.gutenberg.org/ebooks/27730   General  "
            ],
            "text/html": [
              "\n",
              "  <div id=\"df-226978e4-de74-4cb5-84e9-114d76ea6336\">\n",
              "    <div class=\"colab-df-container\">\n",
              "      <div>\n",
              "<style scoped>\n",
              "    .dataframe tbody tr th:only-of-type {\n",
              "        vertical-align: middle;\n",
              "    }\n",
              "\n",
              "    .dataframe tbody tr th {\n",
              "        vertical-align: top;\n",
              "    }\n",
              "\n",
              "    .dataframe thead th {\n",
              "        text-align: right;\n",
              "    }\n",
              "</style>\n",
              "<table border=\"1\" class=\"dataframe\">\n",
              "  <thead>\n",
              "    <tr style=\"text-align: right;\">\n",
              "      <th></th>\n",
              "      <th>Title</th>\n",
              "      <th>Author</th>\n",
              "      <th>Link</th>\n",
              "      <th>Bookshelf</th>\n",
              "    </tr>\n",
              "  </thead>\n",
              "  <tbody>\n",
              "    <tr>\n",
              "      <th>15326</th>\n",
              "      <td>Psichopath</td>\n",
              "      <td>Randall Garrett</td>\n",
              "      <td>http://www.gutenberg.org/ebooks/30304</td>\n",
              "      <td>General</td>\n",
              "    </tr>\n",
              "    <tr>\n",
              "      <th>15327</th>\n",
              "      <td>Poisoned Air</td>\n",
              "      <td>S. P. Meek</td>\n",
              "      <td>http://www.gutenberg.org/ebooks/29069</td>\n",
              "      <td>General</td>\n",
              "    </tr>\n",
              "    <tr>\n",
              "      <th>15328</th>\n",
              "      <td>Cry from a Far Planet</td>\n",
              "      <td>Tom Godwin</td>\n",
              "      <td>http://www.gutenberg.org/ebooks/23799</td>\n",
              "      <td>General</td>\n",
              "    </tr>\n",
              "    <tr>\n",
              "      <th>15329</th>\n",
              "      <td>Spies Die Hard!</td>\n",
              "      <td>Arnold Marmor</td>\n",
              "      <td>http://www.gutenberg.org/ebooks/30383</td>\n",
              "      <td>General</td>\n",
              "    </tr>\n",
              "    <tr>\n",
              "      <th>15330</th>\n",
              "      <td>The Doomsman</td>\n",
              "      <td>Van Tassel Sutphen</td>\n",
              "      <td>http://www.gutenberg.org/ebooks/27730</td>\n",
              "      <td>General</td>\n",
              "    </tr>\n",
              "  </tbody>\n",
              "</table>\n",
              "</div>\n",
              "      <button class=\"colab-df-convert\" onclick=\"convertToInteractive('df-226978e4-de74-4cb5-84e9-114d76ea6336')\"\n",
              "              title=\"Convert this dataframe to an interactive table.\"\n",
              "              style=\"display:none;\">\n",
              "        \n",
              "  <svg xmlns=\"http://www.w3.org/2000/svg\" height=\"24px\"viewBox=\"0 0 24 24\"\n",
              "       width=\"24px\">\n",
              "    <path d=\"M0 0h24v24H0V0z\" fill=\"none\"/>\n",
              "    <path d=\"M18.56 5.44l.94 2.06.94-2.06 2.06-.94-2.06-.94-.94-2.06-.94 2.06-2.06.94zm-11 1L8.5 8.5l.94-2.06 2.06-.94-2.06-.94L8.5 2.5l-.94 2.06-2.06.94zm10 10l.94 2.06.94-2.06 2.06-.94-2.06-.94-.94-2.06-.94 2.06-2.06.94z\"/><path d=\"M17.41 7.96l-1.37-1.37c-.4-.4-.92-.59-1.43-.59-.52 0-1.04.2-1.43.59L10.3 9.45l-7.72 7.72c-.78.78-.78 2.05 0 2.83L4 21.41c.39.39.9.59 1.41.59.51 0 1.02-.2 1.41-.59l7.78-7.78 2.81-2.81c.8-.78.8-2.07 0-2.86zM5.41 20L4 18.59l7.72-7.72 1.47 1.35L5.41 20z\"/>\n",
              "  </svg>\n",
              "      </button>\n",
              "      \n",
              "  <style>\n",
              "    .colab-df-container {\n",
              "      display:flex;\n",
              "      flex-wrap:wrap;\n",
              "      gap: 12px;\n",
              "    }\n",
              "\n",
              "    .colab-df-convert {\n",
              "      background-color: #E8F0FE;\n",
              "      border: none;\n",
              "      border-radius: 50%;\n",
              "      cursor: pointer;\n",
              "      display: none;\n",
              "      fill: #1967D2;\n",
              "      height: 32px;\n",
              "      padding: 0 0 0 0;\n",
              "      width: 32px;\n",
              "    }\n",
              "\n",
              "    .colab-df-convert:hover {\n",
              "      background-color: #E2EBFA;\n",
              "      box-shadow: 0px 1px 2px rgba(60, 64, 67, 0.3), 0px 1px 3px 1px rgba(60, 64, 67, 0.15);\n",
              "      fill: #174EA6;\n",
              "    }\n",
              "\n",
              "    [theme=dark] .colab-df-convert {\n",
              "      background-color: #3B4455;\n",
              "      fill: #D2E3FC;\n",
              "    }\n",
              "\n",
              "    [theme=dark] .colab-df-convert:hover {\n",
              "      background-color: #434B5C;\n",
              "      box-shadow: 0px 1px 3px 1px rgba(0, 0, 0, 0.15);\n",
              "      filter: drop-shadow(0px 1px 2px rgba(0, 0, 0, 0.3));\n",
              "      fill: #FFFFFF;\n",
              "    }\n",
              "  </style>\n",
              "\n",
              "      <script>\n",
              "        const buttonEl =\n",
              "          document.querySelector('#df-226978e4-de74-4cb5-84e9-114d76ea6336 button.colab-df-convert');\n",
              "        buttonEl.style.display =\n",
              "          google.colab.kernel.accessAllowed ? 'block' : 'none';\n",
              "\n",
              "        async function convertToInteractive(key) {\n",
              "          const element = document.querySelector('#df-226978e4-de74-4cb5-84e9-114d76ea6336');\n",
              "          const dataTable =\n",
              "            await google.colab.kernel.invokeFunction('convertToInteractive',\n",
              "                                                     [key], {});\n",
              "          if (!dataTable) return;\n",
              "\n",
              "          const docLinkHtml = 'Like what you see? Visit the ' +\n",
              "            '<a target=\"_blank\" href=https://colab.research.google.com/notebooks/data_table.ipynb>data table notebook</a>'\n",
              "            + ' to learn more about interactive tables.';\n",
              "          element.innerHTML = '';\n",
              "          dataTable['output_type'] = 'display_data';\n",
              "          await google.colab.output.renderOutput(dataTable, element);\n",
              "          const docLink = document.createElement('div');\n",
              "          docLink.innerHTML = docLinkHtml;\n",
              "          element.appendChild(docLink);\n",
              "        }\n",
              "      </script>\n",
              "    </div>\n",
              "  </div>\n",
              "  "
            ]
          },
          "metadata": {},
          "execution_count": 35
        }
      ]
    },
    {
      "cell_type": "code",
      "source": [
        "df_processed.info()"
      ],
      "metadata": {
        "colab": {
          "base_uri": "https://localhost:8080/"
        },
        "id": "q75tzWkFfFYm",
        "outputId": "a24c8a8a-d44a-4f31-a9b4-15106c5a2181"
      },
      "execution_count": null,
      "outputs": [
        {
          "output_type": "stream",
          "name": "stdout",
          "text": [
            "<class 'pandas.core.frame.DataFrame'>\n",
            "Int64Index: 15329 entries, 0 to 15330\n",
            "Data columns (total 4 columns):\n",
            " #   Column     Non-Null Count  Dtype \n",
            "---  ------     --------------  ----- \n",
            " 0   Title      15329 non-null  object\n",
            " 1   Author     14133 non-null  object\n",
            " 2   Link       15329 non-null  object\n",
            " 3   Bookshelf  15329 non-null  object\n",
            "dtypes: object(4)\n",
            "memory usage: 598.8+ KB\n"
          ]
        }
      ]
    },
    {
      "cell_type": "code",
      "source": [
        "X = df_processed['Title']"
      ],
      "metadata": {
        "id": "ucrHONfAe2oD"
      },
      "execution_count": null,
      "outputs": []
    },
    {
      "cell_type": "code",
      "source": [
        "X.shape"
      ],
      "metadata": {
        "colab": {
          "base_uri": "https://localhost:8080/"
        },
        "id": "et8eBwZne--K",
        "outputId": "fca5fac9-ab5f-4f73-8486-657005b8a7db"
      },
      "execution_count": null,
      "outputs": [
        {
          "output_type": "execute_result",
          "data": {
            "text/plain": [
              "(15329,)"
            ]
          },
          "metadata": {},
          "execution_count": 242
        }
      ]
    },
    {
      "cell_type": "code",
      "source": [
        "y = df_processed['Bookshelf']"
      ],
      "metadata": {
        "id": "g4sw7ETofCZt"
      },
      "execution_count": null,
      "outputs": []
    },
    {
      "cell_type": "code",
      "source": [
        "y.shape"
      ],
      "metadata": {
        "colab": {
          "base_uri": "https://localhost:8080/"
        },
        "id": "du1h2_Qtfbe4",
        "outputId": "e7096372-a698-4d04-96ad-013171bfdc2d"
      },
      "execution_count": null,
      "outputs": [
        {
          "output_type": "execute_result",
          "data": {
            "text/plain": [
              "(15329,)"
            ]
          },
          "metadata": {},
          "execution_count": 244
        }
      ]
    },
    {
      "cell_type": "code",
      "source": [
        "y.value_counts()\n"
      ],
      "metadata": {
        "colab": {
          "base_uri": "https://localhost:8080/"
        },
        "id": "QiLO3lkxfi3e",
        "outputId": "dec4e2d4-cfd3-4700-837b-603e3cc1afa9"
      },
      "execution_count": null,
      "outputs": [
        {
          "output_type": "execute_result",
          "data": {
            "text/plain": [
              "General     12601\n",
              "Children      225\n",
              "Micheal       125\n",
              "FR             84\n",
              "The            77\n",
              "            ...  \n",
              "Canon           3\n",
              "English         3\n",
              "Czech           3\n",
              "Journal         2\n",
              "Bulgaria        2\n",
              "Name: Bookshelf, Length: 110, dtype: int64"
            ]
          },
          "metadata": {},
          "execution_count": 245
        }
      ]
    },
    {
      "cell_type": "code",
      "source": [
        "max_features = 20000\n",
        "seq_length = 10 # How long to make our word sequences\n",
        "batch_size = 32"
      ],
      "metadata": {
        "id": "9d0IOCg9hj1O"
      },
      "execution_count": null,
      "outputs": []
    },
    {
      "cell_type": "code",
      "source": [
        "tokenizer = Tokenizer(num_words=max_features)\n",
        "tokenizer.fit_on_texts(X)"
      ],
      "metadata": {
        "id": "AvksDZ8wh2_b"
      },
      "execution_count": null,
      "outputs": []
    },
    {
      "cell_type": "code",
      "source": [
        "sequences_X = tokenizer.texts_to_sequences(X)\n"
      ],
      "metadata": {
        "id": "Y8ra3eRdiBTI"
      },
      "execution_count": null,
      "outputs": []
    },
    {
      "cell_type": "code",
      "source": [
        "word_index = tokenizer.word_index\n",
        "print('Found %s unique tokens.' % len(word_index))"
      ],
      "metadata": {
        "colab": {
          "base_uri": "https://localhost:8080/"
        },
        "id": "RjbFOegkiLHy",
        "outputId": "ca9617f9-f00f-4846-bedc-d65172dfaa89"
      },
      "execution_count": null,
      "outputs": [
        {
          "output_type": "stream",
          "name": "stdout",
          "text": [
            "Found 10505 unique tokens.\n"
          ]
        }
      ]
    },
    {
      "cell_type": "code",
      "source": [
        "# the first 10 tokens\n",
        "count = 0\n",
        "for word,i in word_index.items():\n",
        "    print (word, i)\n",
        "    count = count + 1\n",
        "    if (count == 10):\n",
        "        break"
      ],
      "metadata": {
        "colab": {
          "base_uri": "https://localhost:8080/"
        },
        "id": "z42OMbQCiPkV",
        "outputId": "154e1e41-1056-4eae-b430-03d5c208e92a"
      },
      "execution_count": null,
      "outputs": [
        {
          "output_type": "stream",
          "name": "stdout",
          "text": [
            "the 1\n",
            "of 2\n",
            "and 3\n",
            "a 4\n",
            "in 5\n",
            "volume 6\n",
            "or 7\n",
            "de 8\n",
            "from 9\n",
            "on 10\n"
          ]
        }
      ]
    },
    {
      "cell_type": "code",
      "source": [
        "print(type(sequences_X))"
      ],
      "metadata": {
        "colab": {
          "base_uri": "https://localhost:8080/"
        },
        "id": "Byp8PbQI9CFU",
        "outputId": "ea694df1-5224-4725-c865-80c1acbd8246"
      },
      "execution_count": null,
      "outputs": [
        {
          "output_type": "stream",
          "name": "stdout",
          "text": [
            "<class 'list'>\n"
          ]
        }
      ]
    },
    {
      "cell_type": "code",
      "source": [
        "X_array = np.array(sequences_X)\n",
        "\n",
        "print(type(X_array))\n"
      ],
      "metadata": {
        "colab": {
          "base_uri": "https://localhost:8080/"
        },
        "id": "W2XQpynq7ZQY",
        "outputId": "4bfc000f-b4e6-4cd5-9785-f79899001842"
      },
      "execution_count": null,
      "outputs": [
        {
          "output_type": "stream",
          "name": "stdout",
          "text": [
            "<class 'numpy.ndarray'>\n"
          ]
        },
        {
          "output_type": "stream",
          "name": "stderr",
          "text": [
            "/usr/local/lib/python3.7/dist-packages/ipykernel_launcher.py:1: VisibleDeprecationWarning: Creating an ndarray from ragged nested sequences (which is a list-or-tuple of lists-or-tuples-or ndarrays with different lengths or shapes) is deprecated. If you meant to do this, you must specify 'dtype=object' when creating the ndarray.\n",
            "  \"\"\"Entry point for launching an IPython kernel.\n"
          ]
        }
      ]
    },
    {
      "cell_type": "code",
      "source": [
        "print(X_array.shape)"
      ],
      "metadata": {
        "colab": {
          "base_uri": "https://localhost:8080/"
        },
        "id": "088HtfVP7uHl",
        "outputId": "4a7b1bf0-fdda-496c-d572-eddb4c1d1a77"
      },
      "execution_count": null,
      "outputs": [
        {
          "output_type": "stream",
          "name": "stdout",
          "text": [
            "(15329,)\n"
          ]
        }
      ]
    },
    {
      "cell_type": "code",
      "source": [
        "X_array"
      ],
      "metadata": {
        "colab": {
          "base_uri": "https://localhost:8080/"
        },
        "id": "iTsw61WL8GBl",
        "outputId": "046455cf-86d7-4e4c-e579-8005a0308b4a"
      },
      "execution_count": null,
      "outputs": [
        {
          "output_type": "execute_result",
          "data": {
            "text/plain": [
              "array([list([1, 1237, 2, 1, 24, 2493]), list([4293, 3, 4294]),\n",
              "       list([4295, 3469, 2, 115]), ..., list([3468, 9, 4, 754, 147]),\n",
              "       list([3419, 184, 1580]), list([1, 7288])], dtype=object)"
            ]
          },
          "metadata": {},
          "execution_count": 66
        }
      ]
    },
    {
      "cell_type": "code",
      "source": [
        "X = pad_sequences(X_array, maxlen=seq_length)\n",
        "print('shape of x',X.shape)"
      ],
      "metadata": {
        "colab": {
          "base_uri": "https://localhost:8080/"
        },
        "id": "nbs3cAbkiX2k",
        "outputId": "0f9961e7-0ba0-4d9c-c7b4-40a968ef521b"
      },
      "execution_count": null,
      "outputs": [
        {
          "output_type": "stream",
          "name": "stdout",
          "text": [
            "shape of x (15329, 10)\n"
          ]
        }
      ]
    },
    {
      "cell_type": "code",
      "source": [
        "X[5: 10 ,:]"
      ],
      "metadata": {
        "colab": {
          "base_uri": "https://localhost:8080/"
        },
        "id": "_9vNqIsE2Nmp",
        "outputId": "d09a1e57-4815-4a07-e4b2-63abcffbea41"
      },
      "execution_count": null,
      "outputs": [
        {
          "output_type": "execute_result",
          "data": {
            "text/plain": [
              "array([[   0,    0,    0,    0,  477,   97,    4,  566,    3, 2494],\n",
              "       [   0,    0,    0,    0,    0,    0,  197,  244,  198,  216],\n",
              "       [   2,   35, 4297,   78,   12, 1778, 4298, 1238,    3, 2495],\n",
              "       [   0,    0,    0,    4,  296,   19,    1,   87,    2,  115],\n",
              "       [   0,    0,  128,  812,  174,   29,   96, 1237,    3, 1779]],\n",
              "      dtype=int32)"
            ]
          },
          "metadata": {},
          "execution_count": 68
        }
      ]
    },
    {
      "cell_type": "code",
      "source": [
        "le = preprocessing.LabelEncoder()\n",
        "y = le.fit_transform(y)"
      ],
      "metadata": {
        "id": "w59jfULsjyfJ"
      },
      "execution_count": null,
      "outputs": []
    },
    {
      "cell_type": "code",
      "source": [
        "y"
      ],
      "metadata": {
        "colab": {
          "base_uri": "https://localhost:8080/"
        },
        "id": "EY6sv15lkL4s",
        "outputId": "2a0ad050-80e8-4759-d663-9c54c0863c10"
      },
      "execution_count": null,
      "outputs": [
        {
          "output_type": "execute_result",
          "data": {
            "text/plain": [
              "array([70, 70, 70, ..., 49, 49, 49])"
            ]
          },
          "metadata": {},
          "execution_count": 248
        }
      ]
    },
    {
      "cell_type": "code",
      "source": [
        "y = tf.keras.utils.to_categorical(np.asarray(y))"
      ],
      "metadata": {
        "id": "gSUE01V_ik4C"
      },
      "execution_count": null,
      "outputs": []
    },
    {
      "cell_type": "code",
      "source": [
        "y"
      ],
      "metadata": {
        "colab": {
          "base_uri": "https://localhost:8080/"
        },
        "id": "5MMwm6GakReT",
        "outputId": "8bd57f2d-aab8-4036-e9ee-31b85ffbcdc5"
      },
      "execution_count": null,
      "outputs": [
        {
          "output_type": "execute_result",
          "data": {
            "text/plain": [
              "array([[0., 0., 0., ..., 0., 0., 0.],\n",
              "       [0., 0., 0., ..., 0., 0., 0.],\n",
              "       [0., 0., 0., ..., 0., 0., 0.],\n",
              "       ...,\n",
              "       [0., 0., 0., ..., 0., 0., 0.],\n",
              "       [0., 0., 0., ..., 0., 0., 0.],\n",
              "       [0., 0., 0., ..., 0., 0., 0.]], dtype=float32)"
            ]
          },
          "metadata": {},
          "execution_count": 250
        }
      ]
    },
    {
      "cell_type": "code",
      "source": [
        "y.shape"
      ],
      "metadata": {
        "colab": {
          "base_uri": "https://localhost:8080/"
        },
        "id": "X0IKjoFg-rsT",
        "outputId": "98bead50-a211-4b9d-c385-237842ee96b4"
      },
      "execution_count": null,
      "outputs": [
        {
          "output_type": "execute_result",
          "data": {
            "text/plain": [
              "(15329, 110)"
            ]
          },
          "metadata": {},
          "execution_count": 251
        }
      ]
    },
    {
      "cell_type": "code",
      "source": [
        "X_train, X_test, y_train, y_test = train_test_split(X , y, test_size=0.2, random_state=1010,shuffle=True,stratify=y)"
      ],
      "metadata": {
        "id": "yCJ36N8b3lIP"
      },
      "execution_count": null,
      "outputs": []
    },
    {
      "cell_type": "markdown",
      "source": [
        "**MODEL 1 : SIMPLE RNN (5 UNITS) , OPTIMIZER = RMSPROP(LEARNING RATE = O.OO2)**\n",
        "MAX_FEATURES=20000\n",
        "SEQ_LENGTH = 10\n",
        "BATCH_SIZE = 32"
      ],
      "metadata": {
        "id": "dRX-EXhqTMLd"
      }
    },
    {
      "cell_type": "code",
      "source": [
        "model1 = tf.keras.Sequential()\n",
        "model1.add(tf.keras.layers.Embedding(max_features, 50 , input_length=seq_length))\n",
        "model1.add(tf.keras.layers.SimpleRNN(5,kernel_initializer=initializers.RandomNormal(stddev=0.001),\n",
        "                                    recurrent_initializer=initializers.Identity(gain=1.0),activation='relu',input_shape = [seq_length]))\n",
        "model1.add(tf.keras.layers.Flatten())\n",
        "model1.add(Dense(110, activation='softmax'))\n",
        "\n",
        "print(model1.summary())\n"
      ],
      "metadata": {
        "colab": {
          "base_uri": "https://localhost:8080/"
        },
        "id": "ArRP-xSv-OIZ",
        "outputId": "b9381fd1-69af-478f-c68c-306cdfb15855"
      },
      "execution_count": null,
      "outputs": [
        {
          "output_type": "stream",
          "name": "stdout",
          "text": [
            "Model: \"sequential\"\n",
            "_________________________________________________________________\n",
            " Layer (type)                Output Shape              Param #   \n",
            "=================================================================\n",
            " embedding (Embedding)       (None, 10, 50)            1000000   \n",
            "                                                                 \n",
            " simple_rnn (SimpleRNN)      (None, 5)                 280       \n",
            "                                                                 \n",
            " flatten (Flatten)           (None, 5)                 0         \n",
            "                                                                 \n",
            " dense (Dense)               (None, 110)               660       \n",
            "                                                                 \n",
            "=================================================================\n",
            "Total params: 1,000,940\n",
            "Trainable params: 1,000,940\n",
            "Non-trainable params: 0\n",
            "_________________________________________________________________\n",
            "None\n"
          ]
        }
      ]
    },
    {
      "cell_type": "code",
      "source": [
        "# put your codes here\n",
        "from tensorflow.keras import optimizers\n",
        "opt = optimizers.RMSprop(learning_rate= 0.002)\n",
        "model1.compile(loss='categorical_crossentropy', optimizer=opt, metrics=['accuracy'])"
      ],
      "metadata": {
        "id": "p0rTDzKb-jeb"
      },
      "execution_count": null,
      "outputs": []
    },
    {
      "cell_type": "code",
      "source": [
        "history1=model1.fit(X_train, y_train, validation_data=(X_test, y_test),epochs=10, batch_size=batch_size)"
      ],
      "metadata": {
        "colab": {
          "base_uri": "https://localhost:8080/"
        },
        "id": "ZfnRR-Ba_hk4",
        "outputId": "c528f684-83d7-4396-f6a2-17cfcbdf2932"
      },
      "execution_count": null,
      "outputs": [
        {
          "output_type": "stream",
          "name": "stdout",
          "text": [
            "Epoch 1/10\n",
            "384/384 [==============================] - 5s 10ms/step - loss: 1.4071 - accuracy: 0.8180 - val_loss: 1.2211 - val_accuracy: 0.8219\n",
            "Epoch 2/10\n",
            "384/384 [==============================] - 3s 9ms/step - loss: 1.2022 - accuracy: 0.8221 - val_loss: 1.2057 - val_accuracy: 0.8219\n",
            "Epoch 3/10\n",
            "384/384 [==============================] - 4s 9ms/step - loss: 1.1730 - accuracy: 0.8221 - val_loss: 1.2682 - val_accuracy: 0.8219\n",
            "Epoch 4/10\n",
            "384/384 [==============================] - 3s 9ms/step - loss: 1.1538 - accuracy: 0.8221 - val_loss: 1.2070 - val_accuracy: 0.8219\n",
            "Epoch 5/10\n",
            "384/384 [==============================] - 4s 9ms/step - loss: 1.1444 - accuracy: 0.8221 - val_loss: 1.2369 - val_accuracy: 0.8219\n",
            "Epoch 6/10\n",
            "384/384 [==============================] - 4s 9ms/step - loss: 1.1281 - accuracy: 0.8221 - val_loss: 1.1897 - val_accuracy: 0.8219\n",
            "Epoch 7/10\n",
            "384/384 [==============================] - 4s 9ms/step - loss: 1.1036 - accuracy: 0.8245 - val_loss: 1.1842 - val_accuracy: 0.8239\n",
            "Epoch 8/10\n",
            "384/384 [==============================] - 3s 9ms/step - loss: 1.0785 - accuracy: 0.8251 - val_loss: 1.2021 - val_accuracy: 0.8249\n",
            "Epoch 9/10\n",
            "384/384 [==============================] - 3s 9ms/step - loss: 1.0444 - accuracy: 0.8267 - val_loss: 1.2089 - val_accuracy: 0.8226\n",
            "Epoch 10/10\n",
            "384/384 [==============================] - 3s 8ms/step - loss: 1.0222 - accuracy: 0.8268 - val_loss: 1.2014 - val_accuracy: 0.8232\n"
          ]
        }
      ]
    },
    {
      "cell_type": "code",
      "source": [
        "# Retrieve a list of accuracy results on training and validation data\n",
        "# sets for each training epoch\n",
        "acc = history1.history['accuracy']\n",
        "val_acc = history1.history['val_accuracy']\n",
        "\n",
        "# Retrieve a list of list results on training and validation data\n",
        "# sets for each training epoch\n",
        "loss = history1.history['loss']\n",
        "val_loss = history1.history['val_loss']\n",
        "\n",
        "# Get number of epochs\n",
        "epochs = range(len(acc))\n",
        "\n",
        "# Plot training and validation accuracy per epoch\n",
        "plt.plot(epochs, acc)\n",
        "plt.plot(epochs, val_acc)\n",
        "plt.title('Training and validation accuracy')\n",
        "\n",
        "plt.figure()\n",
        "\n",
        "# Plot training and validation loss per epoch\n",
        "plt.plot(epochs, loss)\n",
        "plt.plot(epochs, val_loss)\n",
        "plt.title('Training and validation loss')"
      ],
      "metadata": {
        "colab": {
          "base_uri": "https://localhost:8080/",
          "height": 562
        },
        "id": "dD4TKvwGDCkp",
        "outputId": "9ccc09ee-1752-4403-8b8f-a2f06b25f3d8"
      },
      "execution_count": null,
      "outputs": [
        {
          "output_type": "execute_result",
          "data": {
            "text/plain": [
              "Text(0.5, 1.0, 'Training and validation loss')"
            ]
          },
          "metadata": {},
          "execution_count": 78
        },
        {
          "output_type": "display_data",
          "data": {
            "text/plain": [
              "<Figure size 432x288 with 1 Axes>"
            ],
            "image/png": "[encoded data removed]"
          },
          "metadata": {
            "needs_background": "light"
          }
        },
        {
          "output_type": "display_data",
          "data": {
            "text/plain": [
              "<Figure size 432x288 with 1 Axes>"
            ],
            "image/png": "[encoded data removed]"
          },
          "metadata": {
            "needs_background": "light"
          }
        }
      ]
    },
    {
      "cell_type": "markdown",
      "source": [
        "**MODEL 1 WITH SIMPLE RNN (5 UNITS) SEEMS TO BE DOING GOOD WITH BOTH TRAINING AND VALIDATION ACCURACY AROUND 80%**"
      ],
      "metadata": {
        "id": "8Hqzgh8vUT3B"
      }
    },
    {
      "cell_type": "markdown",
      "source": [
        "**LETS TRAIN IT FOR MORE EPOCH **\n",
        "\n",
        "EPOCHS =20"
      ],
      "metadata": {
        "id": "NN6SS1VzVOj9"
      }
    },
    {
      "cell_type": "code",
      "source": [
        "history12=model1.fit(X_train, y_train, validation_data=(X_test, y_test),epochs=20, batch_size=batch_size)"
      ],
      "metadata": {
        "colab": {
          "base_uri": "https://localhost:8080/"
        },
        "id": "j85BQiNrVM27",
        "outputId": "afaef1e4-178f-4c17-9e4f-e7c499f766a0"
      },
      "execution_count": null,
      "outputs": [
        {
          "output_type": "stream",
          "name": "stdout",
          "text": [
            "Epoch 1/20\n",
            "384/384 [==============================] - 7s 17ms/step - loss: 1.0041 - accuracy: 0.8276 - val_loss: 1.2233 - val_accuracy: 0.8187\n",
            "Epoch 2/20\n",
            "384/384 [==============================] - 6s 16ms/step - loss: 0.9870 - accuracy: 0.8282 - val_loss: 1.1964 - val_accuracy: 0.8193\n",
            "Epoch 3/20\n",
            "384/384 [==============================] - 5s 14ms/step - loss: 0.9723 - accuracy: 0.8283 - val_loss: 1.1928 - val_accuracy: 0.8174\n",
            "Epoch 4/20\n",
            "384/384 [==============================] - 5s 14ms/step - loss: 0.9636 - accuracy: 0.8291 - val_loss: 1.2233 - val_accuracy: 0.8112\n",
            "Epoch 5/20\n",
            "384/384 [==============================] - 5s 13ms/step - loss: 0.9547 - accuracy: 0.8289 - val_loss: 1.2135 - val_accuracy: 0.8180\n",
            "Epoch 6/20\n",
            "384/384 [==============================] - 5s 13ms/step - loss: 0.9466 - accuracy: 0.8293 - val_loss: 1.2267 - val_accuracy: 0.8151\n",
            "Epoch 7/20\n",
            "384/384 [==============================] - 6s 16ms/step - loss: 0.9368 - accuracy: 0.8305 - val_loss: 1.2500 - val_accuracy: 0.8082\n",
            "Epoch 8/20\n",
            "384/384 [==============================] - 4s 11ms/step - loss: 0.9288 - accuracy: 0.8310 - val_loss: 1.2644 - val_accuracy: 0.8121\n",
            "Epoch 9/20\n",
            "384/384 [==============================] - 4s 9ms/step - loss: 0.9228 - accuracy: 0.8314 - val_loss: 1.2198 - val_accuracy: 0.8144\n",
            "Epoch 10/20\n",
            "384/384 [==============================] - 3s 9ms/step - loss: 0.9152 - accuracy: 0.8324 - val_loss: 1.2628 - val_accuracy: 0.8046\n",
            "Epoch 11/20\n",
            "384/384 [==============================] - 3s 8ms/step - loss: 0.9110 - accuracy: 0.8323 - val_loss: 1.2417 - val_accuracy: 0.8076\n",
            "Epoch 12/20\n",
            "384/384 [==============================] - 3s 9ms/step - loss: 0.9038 - accuracy: 0.8336 - val_loss: 1.2803 - val_accuracy: 0.8023\n",
            "Epoch 13/20\n",
            "384/384 [==============================] - 3s 9ms/step - loss: 0.8989 - accuracy: 0.8342 - val_loss: 1.2627 - val_accuracy: 0.8040\n",
            "Epoch 14/20\n",
            "384/384 [==============================] - 3s 9ms/step - loss: 0.8956 - accuracy: 0.8350 - val_loss: 1.3005 - val_accuracy: 0.8050\n",
            "Epoch 15/20\n",
            "384/384 [==============================] - 3s 9ms/step - loss: 0.8898 - accuracy: 0.8355 - val_loss: 1.2887 - val_accuracy: 0.8027\n",
            "Epoch 16/20\n",
            "384/384 [==============================] - 3s 9ms/step - loss: 0.8864 - accuracy: 0.8367 - val_loss: 1.3083 - val_accuracy: 0.8033\n",
            "Epoch 17/20\n",
            "384/384 [==============================] - 3s 9ms/step - loss: 0.8809 - accuracy: 0.8374 - val_loss: 1.3036 - val_accuracy: 0.8069\n",
            "Epoch 18/20\n",
            "384/384 [==============================] - 4s 9ms/step - loss: 0.8726 - accuracy: 0.8380 - val_loss: 1.3322 - val_accuracy: 0.8056\n",
            "Epoch 19/20\n",
            "384/384 [==============================] - 3s 9ms/step - loss: 0.8668 - accuracy: 0.8392 - val_loss: 1.3259 - val_accuracy: 0.7991\n",
            "Epoch 20/20\n",
            "384/384 [==============================] - 4s 9ms/step - loss: 0.8628 - accuracy: 0.8404 - val_loss: 1.4519 - val_accuracy: 0.8033\n"
          ]
        }
      ]
    },
    {
      "cell_type": "markdown",
      "source": [
        "**WITH MORE EPOCHS TRAINING ACCURACY SEEMS TO BE SLIGHTLY INCREASING BUT VALIDATION ACCURACY DROPS , SO 10 EPOCHS IS OK HERE**"
      ],
      "metadata": {
        "id": "0AI4uQsYWL7c"
      }
    },
    {
      "cell_type": "code",
      "source": [
        "# Retrieve a list of accuracy results on training and validation data\n",
        "# sets for each training epoch\n",
        "acc = history12.history['accuracy']\n",
        "val_acc = history12.history['val_accuracy']\n",
        "\n",
        "# Retrieve a list of list results on training and validation data\n",
        "# sets for each training epoch\n",
        "loss = history12.history['loss']\n",
        "val_loss = history12.history['val_loss']\n",
        "\n",
        "# Get number of epochs\n",
        "epochs = range(len(acc))\n",
        "\n",
        "# Plot training and validation accuracy per epoch\n",
        "plt.plot(epochs, acc)\n",
        "plt.plot(epochs, val_acc)\n",
        "plt.title('Training and validation accuracy')\n",
        "\n",
        "plt.figure()\n",
        "\n",
        "# Plot training and validation loss per epoch\n",
        "plt.plot(epochs, loss)\n",
        "plt.plot(epochs, val_loss)\n",
        "plt.title('Training and validation loss')"
      ],
      "metadata": {
        "colab": {
          "base_uri": "https://localhost:8080/",
          "height": 562
        },
        "id": "qwyUuiypVlOQ",
        "outputId": "1e2c0eb4-f2b8-4c4f-df28-bc639b69e9d4"
      },
      "execution_count": null,
      "outputs": [
        {
          "output_type": "execute_result",
          "data": {
            "text/plain": [
              "Text(0.5, 1.0, 'Training and validation loss')"
            ]
          },
          "metadata": {},
          "execution_count": 80
        },
        {
          "output_type": "display_data",
          "data": {
            "text/plain": [
              "<Figure size 432x288 with 1 Axes>"
            ],
            "image/png": "[encoded data removed]"
          },
          "metadata": {
            "needs_background": "light"
          }
        },
        {
          "output_type": "display_data",
          "data": {
            "text/plain": [
              "<Figure size 432x288 with 1 Axes>"
            ],
            "image/png": "[encoded data removed]"
          },
          "metadata": {
            "needs_background": "light"
          }
        }
      ]
    },
    {
      "cell_type": "markdown",
      "source": [
        "**WITH MORE EPOCHS VALIDATION LOSS INCREASES TOO**"
      ],
      "metadata": {
        "id": "Y_CTctcyWpnD"
      }
    },
    {
      "cell_type": "markdown",
      "source": [
        "**COMPILING MODEL 1 WITH A DIFFERENT OPTIMIZER (ADAM)**"
      ],
      "metadata": {
        "id": "iIoIV6_FWvAb"
      }
    },
    {
      "cell_type": "code",
      "source": [
        "opt = optimizers.Adam()\n",
        "model1.compile(loss='categorical_crossentropy', optimizer=opt , metrics=['accuracy'])"
      ],
      "metadata": {
        "id": "DnHBUL87AGq-"
      },
      "execution_count": null,
      "outputs": []
    },
    {
      "cell_type": "code",
      "source": [
        "history13=model1.fit(X_train, y_train, validation_data=(X_test, y_test),epochs=10, batch_size=batch_size)"
      ],
      "metadata": {
        "colab": {
          "base_uri": "https://localhost:8080/"
        },
        "id": "UCdTI5ctAMPm",
        "outputId": "f6315e3e-cedc-43b9-9a5a-37518dd5ca44"
      },
      "execution_count": null,
      "outputs": [
        {
          "output_type": "stream",
          "name": "stdout",
          "text": [
            "Epoch 1/10\n",
            "384/384 [==============================] - 15s 30ms/step - loss: 0.8434 - accuracy: 0.8407 - val_loss: 1.3078 - val_accuracy: 0.8014\n",
            "Epoch 2/10\n",
            "384/384 [==============================] - 10s 26ms/step - loss: 0.8113 - accuracy: 0.8414 - val_loss: 1.3271 - val_accuracy: 0.8023\n",
            "Epoch 3/10\n",
            "384/384 [==============================] - 9s 24ms/step - loss: 0.7814 - accuracy: 0.8421 - val_loss: 1.3548 - val_accuracy: 0.7975\n",
            "Epoch 4/10\n",
            "384/384 [==============================] - 7s 17ms/step - loss: 0.7485 - accuracy: 0.8437 - val_loss: 1.4119 - val_accuracy: 0.7975\n",
            "Epoch 5/10\n",
            "384/384 [==============================] - 6s 16ms/step - loss: 0.7279 - accuracy: 0.8442 - val_loss: 1.3989 - val_accuracy: 0.8037\n",
            "Epoch 6/10\n",
            "384/384 [==============================] - 6s 16ms/step - loss: 0.7059 - accuracy: 0.8455 - val_loss: 1.4655 - val_accuracy: 0.7968\n",
            "Epoch 7/10\n",
            "384/384 [==============================] - 6s 15ms/step - loss: 0.6898 - accuracy: 0.8469 - val_loss: 1.5279 - val_accuracy: 0.7922\n",
            "Epoch 8/10\n",
            "384/384 [==============================] - 6s 15ms/step - loss: 0.6743 - accuracy: 0.8478 - val_loss: 1.5330 - val_accuracy: 0.7939\n",
            "Epoch 9/10\n",
            "384/384 [==============================] - 6s 16ms/step - loss: 0.6627 - accuracy: 0.8482 - val_loss: 1.5539 - val_accuracy: 0.7909\n",
            "Epoch 10/10\n",
            "384/384 [==============================] - 6s 16ms/step - loss: 0.6503 - accuracy: 0.8499 - val_loss: 1.6193 - val_accuracy: 0.7929\n"
          ]
        }
      ]
    },
    {
      "cell_type": "code",
      "source": [
        "# Retrieve a list of accuracy results on training and validation data\n",
        "# sets for each training epoch\n",
        "acc = history13.history['accuracy']\n",
        "val_acc = history13.history['val_accuracy']\n",
        "\n",
        "# Retrieve a list of list results on training and validation data\n",
        "# sets for each training epoch\n",
        "loss = history13.history['loss']\n",
        "val_loss = history13.history['val_loss']\n",
        "\n",
        "# Get number of epochs\n",
        "epochs = range(len(acc))\n",
        "\n",
        "# Plot training and validation accuracy per epoch\n",
        "plt.plot(epochs, acc)\n",
        "plt.plot(epochs, val_acc)\n",
        "plt.title('Training and validation accuracy')\n",
        "\n",
        "plt.figure()\n",
        "\n",
        "# Plot training and validation loss per epoch\n",
        "plt.plot(epochs, loss)\n",
        "plt.plot(epochs, val_loss)\n",
        "plt.title('Training and validation loss')"
      ],
      "metadata": {
        "colab": {
          "base_uri": "https://localhost:8080/",
          "height": 562
        },
        "id": "4bfsIHCiDsyK",
        "outputId": "530d22cf-c6b3-4673-8047-69beb18c1d62"
      },
      "execution_count": null,
      "outputs": [
        {
          "output_type": "execute_result",
          "data": {
            "text/plain": [
              "Text(0.5, 1.0, 'Training and validation loss')"
            ]
          },
          "metadata": {},
          "execution_count": 83
        },
        {
          "output_type": "display_data",
          "data": {
            "text/plain": [
              "<Figure size 432x288 with 1 Axes>"
            ],
            "image/png": "[encoded data removed]"
          },
          "metadata": {
            "needs_background": "light"
          }
        },
        {
          "output_type": "display_data",
          "data": {
            "text/plain": [
              "<Figure size 432x288 with 1 Axes>"
            ],
            "image/png": "[encoded data removed]"
          },
          "metadata": {
            "needs_background": "light"
          }
        }
      ]
    },
    {
      "cell_type": "markdown",
      "source": [
        "**Adam optimizer doesn't do well for this data set as training accuracy increases but validation accuracy drops**"
      ],
      "metadata": {
        "id": "6Drar43OXqZ9"
      }
    },
    {
      "cell_type": "markdown",
      "source": [
        "**MODEL 2 = LSTM( 30 UNITS),RECURRENT_DROPOUT=0.2,DROPOUT = 0.2**\n",
        "**OPTIMIZER = RMSPROP **"
      ],
      "metadata": {
        "id": "PI18hGb1Yhfq"
      }
    },
    {
      "cell_type": "code",
      "source": [
        "model2 = tf.keras.Sequential()\n",
        "\n",
        "model2.add(tf.keras.layers.Embedding(max_features, 50 , input_length=seq_length))\n",
        "model2.add(LSTM(units = 10,activation='relu',return_sequences = True,input_shape = [seq_length],recurrent_dropout = 0.2,dropout=0.2))\n",
        "\n",
        "model2.add(tf.keras.layers.Flatten())\n",
        "model2.add(Dense(110, activation='softmax'))\n",
        "\n",
        "\n",
        "\n",
        "print(model2.summary())\n"
      ],
      "metadata": {
        "colab": {
          "base_uri": "https://localhost:8080/"
        },
        "id": "EHB8nng2Aq74",
        "outputId": "23b9bad0-acd8-4331-c050-9880c4d0112f"
      },
      "execution_count": null,
      "outputs": [
        {
          "output_type": "stream",
          "name": "stdout",
          "text": [
            "Model: \"sequential_3\"\n",
            "_________________________________________________________________\n",
            " Layer (type)                Output Shape              Param #   \n",
            "=================================================================\n",
            " embedding_3 (Embedding)     (None, 10, 50)            1000000   \n",
            "                                                                 \n",
            " lstm_2 (LSTM)               (None, 10, 10)            2440      \n",
            "                                                                 \n",
            " flatten_3 (Flatten)         (None, 100)               0         \n",
            "                                                                 \n",
            " dense_3 (Dense)             (None, 110)               11110     \n",
            "                                                                 \n",
            "=================================================================\n",
            "Total params: 1,013,550\n",
            "Trainable params: 1,013,550\n",
            "Non-trainable params: 0\n",
            "_________________________________________________________________\n",
            "None\n"
          ]
        }
      ]
    },
    {
      "cell_type": "code",
      "source": [
        "opt = optimizers.RMSprop(learning_rate= 0.002)\n",
        "model2.compile(loss='categorical_crossentropy', optimizer=opt , metrics=['accuracy'])"
      ],
      "metadata": {
        "id": "aSy2CPbYBRdf"
      },
      "execution_count": null,
      "outputs": []
    },
    {
      "cell_type": "code",
      "source": [
        "history2=model2.fit(X_train, y_train, validation_data=(X_test, y_test),epochs=10, batch_size=batch_size)"
      ],
      "metadata": {
        "colab": {
          "base_uri": "https://localhost:8080/"
        },
        "id": "3L9Id7hGBVao",
        "outputId": "c8be09df-e0bd-47e5-89f1-204b325784a8"
      },
      "execution_count": null,
      "outputs": [
        {
          "output_type": "stream",
          "name": "stdout",
          "text": [
            "Epoch 1/10\n",
            "384/384 [==============================] - 10s 19ms/step - loss: 1.3926 - accuracy: 0.8180 - val_loss: 1.2195 - val_accuracy: 0.8219\n",
            "Epoch 2/10\n",
            "384/384 [==============================] - 7s 18ms/step - loss: 1.1980 - accuracy: 0.8221 - val_loss: 1.1918 - val_accuracy: 0.8219\n",
            "Epoch 3/10\n",
            "384/384 [==============================] - 7s 18ms/step - loss: 1.1471 - accuracy: 0.8228 - val_loss: 1.1744 - val_accuracy: 0.8229\n",
            "Epoch 4/10\n",
            "384/384 [==============================] - 7s 18ms/step - loss: 1.1039 - accuracy: 0.8251 - val_loss: 1.1393 - val_accuracy: 0.8242\n",
            "Epoch 5/10\n",
            "384/384 [==============================] - 7s 18ms/step - loss: 1.0626 - accuracy: 0.8252 - val_loss: 1.1383 - val_accuracy: 0.8242\n",
            "Epoch 6/10\n",
            "384/384 [==============================] - 7s 18ms/step - loss: 1.0256 - accuracy: 0.8257 - val_loss: 1.1272 - val_accuracy: 0.8245\n",
            "Epoch 7/10\n",
            "384/384 [==============================] - 7s 18ms/step - loss: 0.9846 - accuracy: 0.8264 - val_loss: 1.1321 - val_accuracy: 0.8262\n",
            "Epoch 8/10\n",
            "384/384 [==============================] - 7s 18ms/step - loss: 0.9528 - accuracy: 0.8288 - val_loss: 1.1337 - val_accuracy: 0.8262\n",
            "Epoch 9/10\n",
            "384/384 [==============================] - 7s 17ms/step - loss: 0.9284 - accuracy: 0.8297 - val_loss: 1.1342 - val_accuracy: 0.8249\n",
            "Epoch 10/10\n",
            "384/384 [==============================] - 7s 17ms/step - loss: 0.9036 - accuracy: 0.8314 - val_loss: 1.1532 - val_accuracy: 0.8249\n"
          ]
        }
      ]
    },
    {
      "cell_type": "code",
      "source": [
        "# Retrieve a list of accuracy results on training and validation data\n",
        "# sets for each training epoch\n",
        "acc = history2.history['accuracy']\n",
        "val_acc = history2.history['val_accuracy']\n",
        "\n",
        "# Retrieve a list of list results on training and validation data\n",
        "# sets for each training epoch\n",
        "loss = history2.history['loss']\n",
        "val_loss = history2.history['val_loss']\n",
        "\n",
        "# Get number of epochs\n",
        "epochs = range(len(acc))\n",
        "\n",
        "# Plot training and validation accuracy per epoch\n",
        "plt.plot(epochs, acc)\n",
        "plt.plot(epochs, val_acc)\n",
        "plt.title('Training and validation accuracy')\n",
        "\n",
        "plt.figure()\n",
        "\n",
        "# Plot training and validation loss per epoch\n",
        "plt.plot(epochs, loss)\n",
        "plt.plot(epochs, val_loss)\n",
        "plt.title('Training and validation loss')"
      ],
      "metadata": {
        "colab": {
          "base_uri": "https://localhost:8080/",
          "height": 562
        },
        "id": "unD6gnA2FW7s",
        "outputId": "a14da3b3-c1f8-4ebc-e1f2-a83eab51f0b3"
      },
      "execution_count": null,
      "outputs": [
        {
          "output_type": "execute_result",
          "data": {
            "text/plain": [
              "Text(0.5, 1.0, 'Training and validation loss')"
            ]
          },
          "metadata": {},
          "execution_count": 98
        },
        {
          "output_type": "display_data",
          "data": {
            "text/plain": [
              "<Figure size 432x288 with 1 Axes>"
            ],
            "image/png": "[encoded data removed]"
          },
          "metadata": {
            "needs_background": "light"
          }
        },
        {
          "output_type": "display_data",
          "data": {
            "text/plain": [
              "<Figure size 432x288 with 1 Axes>"
            ],
            "image/png": "[encoded data removed]"
          },
          "metadata": {
            "needs_background": "light"
          }
        }
      ]
    },
    {
      "cell_type": "markdown",
      "source": [
        "**MODEL 2 WITH LSTM UNITS 10 SEEMS TO BE DOING SIMILAR TO SIMPLE RNN (5 UNITS) WITH BOTH ACCURACY AROUND 80 %**"
      ],
      "metadata": {
        "id": "Ulenh-E6dS1N"
      }
    },
    {
      "cell_type": "markdown",
      "source": [
        "**MODEL 2 WITH MAX_FEATURES = 10000**"
      ],
      "metadata": {
        "id": "YH5N_nPZgHuc"
      }
    },
    {
      "cell_type": "code",
      "source": [
        "max_features = 10000\n",
        "seq_length = 10 # How long to make our word sequences\n",
        "batch_size = 32"
      ],
      "metadata": {
        "id": "pS3QownOGq7W"
      },
      "execution_count": null,
      "outputs": []
    },
    {
      "cell_type": "code",
      "source": [
        "tokenizer = Tokenizer(num_words=max_features)\n",
        "tokenizer.fit_on_texts(X)\n",
        "sequences_X = tokenizer.texts_to_sequences(X)\n",
        "word_index = tokenizer.word_index\n",
        "print('Found %s unique tokens.' % len(word_index))\n"
      ],
      "metadata": {
        "colab": {
          "base_uri": "https://localhost:8080/"
        },
        "id": "TkALUwZVG1hy",
        "outputId": "6f78cafa-ff93-4146-a6ec-fa4b6c5df9a2"
      },
      "execution_count": null,
      "outputs": [
        {
          "output_type": "stream",
          "name": "stdout",
          "text": [
            "Found 10505 unique tokens.\n"
          ]
        }
      ]
    },
    {
      "cell_type": "code",
      "source": [
        "X_array = np.array(sequences_X)\n",
        "\n",
        "print(type(X_array))\n"
      ],
      "metadata": {
        "colab": {
          "base_uri": "https://localhost:8080/"
        },
        "id": "W_VQp_vHHCfB",
        "outputId": "e4512278-1fc7-474c-a900-462113893398"
      },
      "execution_count": null,
      "outputs": [
        {
          "output_type": "stream",
          "name": "stdout",
          "text": [
            "<class 'numpy.ndarray'>\n"
          ]
        },
        {
          "output_type": "stream",
          "name": "stderr",
          "text": [
            "/usr/local/lib/python3.7/dist-packages/ipykernel_launcher.py:1: VisibleDeprecationWarning: Creating an ndarray from ragged nested sequences (which is a list-or-tuple of lists-or-tuples-or ndarrays with different lengths or shapes) is deprecated. If you meant to do this, you must specify 'dtype=object' when creating the ndarray.\n",
            "  \"\"\"Entry point for launching an IPython kernel.\n"
          ]
        }
      ]
    },
    {
      "cell_type": "code",
      "source": [
        "X = pad_sequences(X_array, maxlen=seq_length)\n",
        "print('shape of x',X.shape)"
      ],
      "metadata": {
        "colab": {
          "base_uri": "https://localhost:8080/"
        },
        "id": "mOUkjbCFHYd2",
        "outputId": "14da846f-e154-40ef-d0b9-4f5f57a032ac"
      },
      "execution_count": null,
      "outputs": [
        {
          "output_type": "stream",
          "name": "stdout",
          "text": [
            "shape of x (15329, 10)\n"
          ]
        }
      ]
    },
    {
      "cell_type": "code",
      "source": [
        "X_train, X_test, y_train, y_test = train_test_split(X , y, test_size=0.2, random_state=1010,shuffle=True,stratify=y)"
      ],
      "metadata": {
        "id": "1lx6AWLeHj-J"
      },
      "execution_count": null,
      "outputs": []
    },
    {
      "cell_type": "code",
      "source": [
        "model2 = tf.keras.Sequential()\n",
        "\n",
        "model2.add(tf.keras.layers.Embedding(max_features, 50 , input_length=seq_length))\n",
        "model2.add(LSTM(units = 30,activation='relu',return_sequences = True,input_shape = [seq_length],recurrent_dropout = 0.2,dropout=0.2))\n",
        "\n",
        "model2.add(tf.keras.layers.Flatten())\n",
        "model2.add(Dense(110, activation='softmax'))\n",
        "\n",
        "\n",
        "\n",
        "print(model2.summary())\n",
        "opt = optimizers.RMSprop(learning_rate= 0.002)\n",
        "model2.compile(loss='categorical_crossentropy', optimizer=opt , metrics=['accuracy'])\n"
      ],
      "metadata": {
        "colab": {
          "base_uri": "https://localhost:8080/"
        },
        "id": "CeP_ci83HrLk",
        "outputId": "2fd63c8a-8cdd-4a58-fcd4-f9900d841412"
      },
      "execution_count": null,
      "outputs": [
        {
          "output_type": "stream",
          "name": "stdout",
          "text": [
            "Model: \"sequential_5\"\n",
            "_________________________________________________________________\n",
            " Layer (type)                Output Shape              Param #   \n",
            "=================================================================\n",
            " embedding_5 (Embedding)     (None, 10, 50)            500000    \n",
            "                                                                 \n",
            " lstm_4 (LSTM)               (None, 10, 30)            9720      \n",
            "                                                                 \n",
            " flatten_5 (Flatten)         (None, 300)               0         \n",
            "                                                                 \n",
            " dense_5 (Dense)             (None, 110)               33110     \n",
            "                                                                 \n",
            "=================================================================\n",
            "Total params: 542,830\n",
            "Trainable params: 542,830\n",
            "Non-trainable params: 0\n",
            "_________________________________________________________________\n",
            "None\n"
          ]
        }
      ]
    },
    {
      "cell_type": "code",
      "source": [
        "history21=model2.fit(X_train, y_train, validation_data=(X_test, y_test),epochs=10, batch_size=batch_size)"
      ],
      "metadata": {
        "colab": {
          "base_uri": "https://localhost:8080/"
        },
        "id": "n652PttMH6tG",
        "outputId": "ead9e762-6f97-43d9-89d4-0cbe85b825ff"
      },
      "execution_count": null,
      "outputs": [
        {
          "output_type": "stream",
          "name": "stdout",
          "text": [
            "Epoch 1/10\n",
            "384/384 [==============================] - 13s 26ms/step - loss: 1.3485 - accuracy: 0.8197 - val_loss: 1.2085 - val_accuracy: 0.8219\n",
            "Epoch 2/10\n",
            "384/384 [==============================] - 11s 29ms/step - loss: 1.1730 - accuracy: 0.8239 - val_loss: 1.1551 - val_accuracy: 0.8242\n",
            "Epoch 3/10\n",
            "384/384 [==============================] - 7s 17ms/step - loss: 1.0894 - accuracy: 0.8261 - val_loss: 1.1776 - val_accuracy: 0.8258\n",
            "Epoch 4/10\n",
            "384/384 [==============================] - 7s 18ms/step - loss: 1.0353 - accuracy: 0.8271 - val_loss: 1.2164 - val_accuracy: 0.8245\n",
            "Epoch 5/10\n",
            "384/384 [==============================] - 7s 18ms/step - loss: 0.9876 - accuracy: 0.8291 - val_loss: 1.1230 - val_accuracy: 0.8242\n",
            "Epoch 6/10\n",
            "384/384 [==============================] - 7s 18ms/step - loss: 0.9530 - accuracy: 0.8318 - val_loss: 1.1426 - val_accuracy: 0.8216\n",
            "Epoch 7/10\n",
            "384/384 [==============================] - 7s 18ms/step - loss: 0.9207 - accuracy: 0.8341 - val_loss: 1.1277 - val_accuracy: 0.8216\n",
            "Epoch 8/10\n",
            "384/384 [==============================] - 7s 18ms/step - loss: 0.8985 - accuracy: 0.8363 - val_loss: 1.1647 - val_accuracy: 0.8183\n",
            "Epoch 9/10\n",
            "384/384 [==============================] - 7s 18ms/step - loss: 0.8747 - accuracy: 0.8394 - val_loss: 1.1645 - val_accuracy: 0.8200\n",
            "Epoch 10/10\n",
            "384/384 [==============================] - 7s 18ms/step - loss: 0.8560 - accuracy: 0.8402 - val_loss: 1.2331 - val_accuracy: 0.8183\n"
          ]
        }
      ]
    },
    {
      "cell_type": "code",
      "source": [
        "# Retrieve a list of accuracy results on training and validation data\n",
        "# sets for each training epoch\n",
        "acc = history21.history['accuracy']\n",
        "val_acc = history21.history['val_accuracy']\n",
        "\n",
        "# Retrieve a list of list results on training and validation data\n",
        "# sets for each training epoch\n",
        "loss = history21.history['loss']\n",
        "val_loss = history21.history['val_loss']\n",
        "\n",
        "# Get number of epochs\n",
        "epochs = range(len(acc))\n",
        "\n",
        "# Plot training and validation accuracy per epoch\n",
        "plt.plot(epochs, acc)\n",
        "plt.plot(epochs, val_acc)\n",
        "plt.title('Training and validation accuracy')\n",
        "\n",
        "plt.figure()\n",
        "\n",
        "# Plot training and validation loss per epoch\n",
        "plt.plot(epochs, loss)\n",
        "plt.plot(epochs, val_loss)\n",
        "plt.title('Training and validation loss')"
      ],
      "metadata": {
        "colab": {
          "base_uri": "https://localhost:8080/",
          "height": 562
        },
        "id": "-CKvpitNJW3z",
        "outputId": "9587ad0f-fad6-49d2-80b3-b155f5b512d7"
      },
      "execution_count": null,
      "outputs": [
        {
          "output_type": "execute_result",
          "data": {
            "text/plain": [
              "Text(0.5, 1.0, 'Training and validation loss')"
            ]
          },
          "metadata": {},
          "execution_count": 129
        },
        {
          "output_type": "display_data",
          "data": {
            "text/plain": [
              "<Figure size 432x288 with 1 Axes>"
            ],
            "image/png": "[encoded data removed]"
          },
          "metadata": {
            "needs_background": "light"
          }
        },
        {
          "output_type": "display_data",
          "data": {
            "text/plain": [
              "<Figure size 432x288 with 1 Axes>"
            ],
            "image/png": "[encoded data removed]"
          },
          "metadata": {
            "needs_background": "light"
          }
        }
      ]
    },
    {
      "cell_type": "markdown",
      "source": [
        "**DECREASING THE vocabulary SIZE FROM 20000 TO 10000 INCREASES TRAINING ACCURACY BUT VALIDATION ACCURACY DROPS**"
      ],
      "metadata": {
        "id": "pWwHzxW4fhzK"
      }
    },
    {
      "cell_type": "markdown",
      "source": [
        "**MODEL 3 WITH PRETRAINED WEIGHTS**"
      ],
      "metadata": {
        "id": "gq-wd5yRzvU3"
      }
    },
    {
      "cell_type": "code",
      "source": [
        "# put your codes here\n",
        "embeddings_index ={}\n",
        "with open('glove.6B.100d.txt',encoding='utf8') as f:\n",
        "  for line in f:\n",
        "    values = line.split()\n",
        "    word = values[0]\n",
        "    vector = np.asarray(values[1:],'float32')\n",
        "    embeddings_index[word]=vector"
      ],
      "metadata": {
        "id": "b76Q7KFsttpI"
      },
      "execution_count": null,
      "outputs": []
    },
    {
      "cell_type": "code",
      "source": [
        "dog_vec = embeddings_index['dog']\n",
        "\n",
        "print(dog_vec.shape)\n",
        "dog_vec"
      ],
      "metadata": {
        "colab": {
          "base_uri": "https://localhost:8080/"
        },
        "id": "GwFvpZSttzVc",
        "outputId": "e16ac931-4b6e-41fe-bd90-d3b8ab32e84c"
      },
      "execution_count": null,
      "outputs": [
        {
          "output_type": "stream",
          "name": "stdout",
          "text": [
            "(100,)\n"
          ]
        },
        {
          "output_type": "execute_result",
          "data": {
            "text/plain": [
              "array([ 0.30817  ,  0.30938  ,  0.52803  , -0.92543  , -0.73671  ,\n",
              "        0.63475  ,  0.44197  ,  0.10262  , -0.09142  , -0.56607  ,\n",
              "       -0.5327   ,  0.2013   ,  0.7704   , -0.13983  ,  0.13727  ,\n",
              "        1.1128   ,  0.89301  , -0.17869  , -0.0019722,  0.57289  ,\n",
              "        0.59479  ,  0.50428  , -0.28991  , -1.3491   ,  0.42756  ,\n",
              "        1.2748   , -1.1613   , -0.41084  ,  0.042804 ,  0.54866  ,\n",
              "        0.18897  ,  0.3759   ,  0.58035  ,  0.66975  ,  0.81156  ,\n",
              "        0.93864  , -0.51005  , -0.070079 ,  0.82819  , -0.35346  ,\n",
              "        0.21086  , -0.24412  , -0.16554  , -0.78358  , -0.48482  ,\n",
              "        0.38968  , -0.86356  , -0.016391 ,  0.31984  , -0.49246  ,\n",
              "       -0.069363 ,  0.018869 , -0.098286 ,  1.3126   , -0.12116  ,\n",
              "       -1.2399   , -0.091429 ,  0.35294  ,  0.64645  ,  0.089642 ,\n",
              "        0.70294  ,  1.1244   ,  0.38639  ,  0.52084  ,  0.98787  ,\n",
              "        0.79952  , -0.34625  ,  0.14095  ,  0.80167  ,  0.20987  ,\n",
              "       -0.86007  , -0.15308  ,  0.074523 ,  0.40816  ,  0.019208 ,\n",
              "        0.51587  , -0.34428  , -0.24525  , -0.77984  ,  0.27425  ,\n",
              "        0.22418  ,  0.20164  ,  0.017431 , -0.014697 , -1.0235   ,\n",
              "       -0.39695  , -0.0056188,  0.30569  ,  0.31748  ,  0.021404 ,\n",
              "        0.11837  , -0.11319  ,  0.42456  ,  0.53405  , -0.16717  ,\n",
              "       -0.27185  , -0.6255   ,  0.12883  ,  0.62529  , -0.52086  ],\n",
              "      dtype=float32)"
            ]
          },
          "metadata": {},
          "execution_count": 131
        }
      ]
    },
    {
      "cell_type": "code",
      "source": [
        "for k,v in word_index.items():\n",
        "      print(k)\n",
        "      break"
      ],
      "metadata": {
        "colab": {
          "base_uri": "https://localhost:8080/"
        },
        "id": "PVgY7K83t52s",
        "outputId": "9f159f2c-b77b-4b7f-f25c-6a011b874572"
      },
      "execution_count": null,
      "outputs": [
        {
          "output_type": "stream",
          "name": "stdout",
          "text": [
            "the\n"
          ]
        }
      ]
    },
    {
      "cell_type": "code",
      "source": [
        "embedding_matrix= np.zeros((len(word_index) + 1 ,100))\n",
        "\n",
        "i=0\n",
        "for k,v in word_index.items():\n",
        "   i=i+1\n",
        "   #print(k)\n",
        "   embedding_vector=embeddings_index.get(k)\n",
        "   if embedding_vector is not None:\n",
        "      embedding_matrix[i, :] = embedding_vector\n",
        "print(i)\n"
      ],
      "metadata": {
        "colab": {
          "base_uri": "https://localhost:8080/"
        },
        "id": "_xz9DLUKt9bF",
        "outputId": "5b34ce00-f614-4a80-d373-372334779e6e"
      },
      "execution_count": null,
      "outputs": [
        {
          "output_type": "stream",
          "name": "stdout",
          "text": [
            "10505\n"
          ]
        }
      ]
    },
    {
      "cell_type": "code",
      "source": [
        "print(embedding_matrix[:2,:])"
      ],
      "metadata": {
        "colab": {
          "base_uri": "https://localhost:8080/"
        },
        "id": "H7iRHppAuCjW",
        "outputId": "1c4508b4-17bd-4a48-971a-fe8f10992b3f"
      },
      "execution_count": null,
      "outputs": [
        {
          "output_type": "stream",
          "name": "stdout",
          "text": [
            "[[ 0.          0.          0.          0.          0.          0.\n",
            "   0.          0.          0.          0.          0.          0.\n",
            "   0.          0.          0.          0.          0.          0.\n",
            "   0.          0.          0.          0.          0.          0.\n",
            "   0.          0.          0.          0.          0.          0.\n",
            "   0.          0.          0.          0.          0.          0.\n",
            "   0.          0.          0.          0.          0.          0.\n",
            "   0.          0.          0.          0.          0.          0.\n",
            "   0.          0.          0.          0.          0.          0.\n",
            "   0.          0.          0.          0.          0.          0.\n",
            "   0.          0.          0.          0.          0.          0.\n",
            "   0.          0.          0.          0.          0.          0.\n",
            "   0.          0.          0.          0.          0.          0.\n",
            "   0.          0.          0.          0.          0.          0.\n",
            "   0.          0.          0.          0.          0.          0.\n",
            "   0.          0.          0.          0.          0.          0.\n",
            "   0.          0.          0.          0.        ]\n",
            " [-0.038194   -0.24487001  0.72812003 -0.39961001  0.083172    0.043953\n",
            "  -0.39140999  0.3344     -0.57545     0.087459    0.28786999 -0.06731\n",
            "   0.30906001 -0.26383999 -0.13231    -0.20757     0.33395001 -0.33848\n",
            "  -0.31742999 -0.48335999  0.1464     -0.37303999  0.34577     0.052041\n",
            "   0.44946    -0.46970999  0.02628    -0.54154998 -0.15518001 -0.14106999\n",
            "  -0.039722    0.28277001  0.14393     0.23464    -0.31020999  0.086173\n",
            "   0.20397     0.52623999  0.17163999 -0.082378   -0.71787    -0.41531\n",
            "   0.20334999 -0.12763     0.41367     0.55186999  0.57907999 -0.33476999\n",
            "  -0.36559001 -0.54856998 -0.062892    0.26583999  0.30204999  0.99774998\n",
            "  -0.80480999 -3.0243001   0.01254    -0.36941999  2.21670008  0.72201002\n",
            "  -0.24978     0.92136002  0.034514    0.46744999  1.10790002 -0.19358\n",
            "  -0.074575    0.23353    -0.052062   -0.22044     0.057162   -0.15806\n",
            "  -0.30798    -0.41624999  0.37972     0.15006    -0.53211999 -0.20550001\n",
            "  -1.25259995  0.071624    0.70564997  0.49744001 -0.42063001  0.26148\n",
            "  -1.53799999 -0.30223    -0.073438   -0.28312001  0.37103999 -0.25217\n",
            "   0.016215   -0.017099   -0.38984001  0.87423998 -0.72569001 -0.51058\n",
            "  -0.52028    -0.1459      0.82779998  0.27061999]]\n"
          ]
        }
      ]
    },
    {
      "cell_type": "code",
      "source": [
        "print(len(word_index))\n",
        "print(seq_length)"
      ],
      "metadata": {
        "colab": {
          "base_uri": "https://localhost:8080/"
        },
        "id": "vFVwZc-Huc9B",
        "outputId": "6de3325e-685d-486f-bfac-3e18e6c9dc84"
      },
      "execution_count": null,
      "outputs": [
        {
          "output_type": "stream",
          "name": "stdout",
          "text": [
            "10505\n",
            "10\n"
          ]
        }
      ]
    },
    {
      "cell_type": "code",
      "source": [
        "# put your codes here\n",
        "model3 = tf.keras.Sequential()\n",
        "\n",
        "model3.add(tf.keras.layers.Embedding(len(word_index) + 1,100, weights = [embedding_matrix], trainable = False, input_length=seq_length))\n",
        "model3.add(LSTM(units = 10,activation='relu',return_sequences = True,input_shape = [10],recurrent_dropout = 0.2,dropout=0.2))\n",
        "\n",
        "\n",
        "model3.add(tf.keras.layers.Flatten())\n",
        "model3.add(Dense(110, activation='softmax'))\n",
        "\n",
        "\n",
        "\n",
        "print(model3.summary())\n"
      ],
      "metadata": {
        "colab": {
          "base_uri": "https://localhost:8080/"
        },
        "id": "ow8V-riEuJPK",
        "outputId": "9c33c61a-44ac-4a39-d10d-56e7508873c7"
      },
      "execution_count": null,
      "outputs": [
        {
          "output_type": "stream",
          "name": "stdout",
          "text": [
            "Model: \"sequential_12\"\n",
            "_________________________________________________________________\n",
            " Layer (type)                Output Shape              Param #   \n",
            "=================================================================\n",
            " embedding_12 (Embedding)    (None, 10, 100)           1050600   \n",
            "                                                                 \n",
            " lstm_13 (LSTM)              (None, 10, 10)            4440      \n",
            "                                                                 \n",
            " flatten_12 (Flatten)        (None, 100)               0         \n",
            "                                                                 \n",
            " dense_12 (Dense)            (None, 110)               11110     \n",
            "                                                                 \n",
            "=================================================================\n",
            "Total params: 1,066,150\n",
            "Trainable params: 15,550\n",
            "Non-trainable params: 1,050,600\n",
            "_________________________________________________________________\n",
            "None\n"
          ]
        }
      ]
    },
    {
      "cell_type": "code",
      "source": [
        "opt = optimizers.RMSprop(learning_rate= 0.002)\n",
        "model3.compile(loss='categorical_crossentropy', optimizer=opt , metrics=['accuracy'])\n"
      ],
      "metadata": {
        "id": "RICfzmGevXUA"
      },
      "execution_count": null,
      "outputs": []
    },
    {
      "cell_type": "code",
      "source": [
        "history3=model3.fit(X_train, y_train, validation_data=(X_test, y_test),epochs=10, batch_size=batch_size)"
      ],
      "metadata": {
        "colab": {
          "base_uri": "https://localhost:8080/"
        },
        "id": "uDXIJpN8vknF",
        "outputId": "73103dea-1fed-4e16-a891-986077a214a4"
      },
      "execution_count": null,
      "outputs": [
        {
          "output_type": "stream",
          "name": "stdout",
          "text": [
            "Epoch 1/10\n",
            "384/384 [==============================] - 9s 15ms/step - loss: 1.4290 - accuracy: 0.8133 - val_loss: 1.1877 - val_accuracy: 0.8219\n",
            "Epoch 2/10\n",
            "384/384 [==============================] - 5s 14ms/step - loss: 1.1839 - accuracy: 0.8221 - val_loss: 1.1477 - val_accuracy: 0.8219\n",
            "Epoch 3/10\n",
            "384/384 [==============================] - 5s 14ms/step - loss: 1.1331 - accuracy: 0.8227 - val_loss: 1.1250 - val_accuracy: 0.8226\n",
            "Epoch 4/10\n",
            "384/384 [==============================] - 5s 14ms/step - loss: 1.1073 - accuracy: 0.8235 - val_loss: 1.1179 - val_accuracy: 0.8245\n",
            "Epoch 5/10\n",
            "384/384 [==============================] - 5s 14ms/step - loss: 1.0778 - accuracy: 0.8255 - val_loss: 1.1216 - val_accuracy: 0.8245\n",
            "Epoch 6/10\n",
            "384/384 [==============================] - 5s 14ms/step - loss: 1.0660 - accuracy: 0.8256 - val_loss: 1.1160 - val_accuracy: 0.8249\n",
            "Epoch 7/10\n",
            "384/384 [==============================] - 5s 14ms/step - loss: 1.0561 - accuracy: 0.8257 - val_loss: 1.1045 - val_accuracy: 0.8245\n",
            "Epoch 8/10\n",
            "384/384 [==============================] - 5s 13ms/step - loss: 1.0492 - accuracy: 0.8259 - val_loss: 1.1066 - val_accuracy: 0.8249\n",
            "Epoch 9/10\n",
            "384/384 [==============================] - 5s 13ms/step - loss: 1.0390 - accuracy: 0.8259 - val_loss: 1.1176 - val_accuracy: 0.8249\n",
            "Epoch 10/10\n",
            "384/384 [==============================] - 5s 14ms/step - loss: 1.0347 - accuracy: 0.8257 - val_loss: 1.1061 - val_accuracy: 0.8249\n"
          ]
        }
      ]
    },
    {
      "cell_type": "code",
      "source": [
        "# Retrieve a list of accuracy results on training and validation data\n",
        "# sets for each training epoch\n",
        "acc = history3.history['accuracy']\n",
        "val_acc = history3.history['val_accuracy']\n",
        "\n",
        "# Retrieve a list of list results on training and validation data\n",
        "# sets for each training epoch\n",
        "loss = history3.history['loss']\n",
        "val_loss = history3.history['val_loss']\n",
        "\n",
        "# Get number of epochs\n",
        "epochs = range(len(acc))\n",
        "\n",
        "# Plot training and validation accuracy per epoch\n",
        "plt.plot(epochs, acc)\n",
        "plt.plot(epochs, val_acc)\n",
        "plt.title('Training and validation accuracy')\n",
        "\n",
        "plt.figure()\n",
        "\n",
        "# Plot training and validation loss per epoch\n",
        "plt.plot(epochs, loss)\n",
        "plt.plot(epochs, val_loss)\n",
        "plt.title('Training and validation loss')"
      ],
      "metadata": {
        "colab": {
          "base_uri": "https://localhost:8080/",
          "height": 562
        },
        "id": "y2FNSiub0DMb",
        "outputId": "186a8a33-419c-4aee-9796-e188f6522ee2"
      },
      "execution_count": null,
      "outputs": [
        {
          "output_type": "execute_result",
          "data": {
            "text/plain": [
              "Text(0.5, 1.0, 'Training and validation loss')"
            ]
          },
          "metadata": {},
          "execution_count": 170
        },
        {
          "output_type": "display_data",
          "data": {
            "text/plain": [
              "<Figure size 432x288 with 1 Axes>"
            ],
            "image/png": "[encoded data removed]"
          },
          "metadata": {
            "needs_background": "light"
          }
        },
        {
          "output_type": "display_data",
          "data": {
            "text/plain": [
              "<Figure size 432x288 with 1 Axes>"
            ],
            "image/png": "[encoded data removed]"
          },
          "metadata": {
            "needs_background": "light"
          }
        }
      ]
    },
    {
      "cell_type": "markdown",
      "source": [
        "**MODEL 3 WITH PRETRAINED WEIGTS AND LSTM(10) UNITS HAS OVERALL ACCURACY OF ABOUT 82 % AND THERE IS ALMOST NO OVER FITTING**"
      ],
      "metadata": {
        "id": "4BB1DH-T0dhy"
      }
    },
    {
      "cell_type": "markdown",
      "source": [
        "**MODEL 3 WITH seq_length = 7**"
      ],
      "metadata": {
        "id": "aKIIBHT80PdV"
      }
    },
    {
      "cell_type": "code",
      "source": [
        "seq_length = 7"
      ],
      "metadata": {
        "id": "lMAzLvP-2FtR"
      },
      "execution_count": null,
      "outputs": []
    },
    {
      "cell_type": "code",
      "source": [
        "print(max_features)"
      ],
      "metadata": {
        "colab": {
          "base_uri": "https://localhost:8080/"
        },
        "id": "niG34cQx2bNb",
        "outputId": "306a46a9-00b7-46a2-ebce-1c766b060831"
      },
      "execution_count": null,
      "outputs": [
        {
          "output_type": "stream",
          "name": "stdout",
          "text": [
            "10000\n"
          ]
        }
      ]
    },
    {
      "cell_type": "code",
      "source": [
        "tokenizer = Tokenizer(num_words=max_features)\n",
        "tokenizer.fit_on_texts(X)\n",
        "sequences_X = tokenizer.texts_to_sequences(X)\n",
        "word_index = tokenizer.word_index\n",
        "print('Found %s unique tokens.' % len(word_index))\n"
      ],
      "metadata": {
        "colab": {
          "base_uri": "https://localhost:8080/"
        },
        "id": "rz46UYa02X7B",
        "outputId": "9046d472-09d4-4266-cc08-b1663d836ee2"
      },
      "execution_count": null,
      "outputs": [
        {
          "output_type": "stream",
          "name": "stdout",
          "text": [
            "Found 10505 unique tokens.\n"
          ]
        }
      ]
    },
    {
      "cell_type": "code",
      "source": [
        "X_array = np.array(sequences_X)\n"
      ],
      "metadata": {
        "colab": {
          "base_uri": "https://localhost:8080/"
        },
        "id": "YuPDKChI2m78",
        "outputId": "88b9b752-c396-449f-8872-f7c91205fdba"
      },
      "execution_count": null,
      "outputs": [
        {
          "output_type": "stream",
          "name": "stderr",
          "text": [
            "/usr/local/lib/python3.7/dist-packages/ipykernel_launcher.py:1: VisibleDeprecationWarning: Creating an ndarray from ragged nested sequences (which is a list-or-tuple of lists-or-tuples-or ndarrays with different lengths or shapes) is deprecated. If you meant to do this, you must specify 'dtype=object' when creating the ndarray.\n",
            "  \"\"\"Entry point for launching an IPython kernel.\n"
          ]
        }
      ]
    },
    {
      "cell_type": "code",
      "source": [
        "X = pad_sequences(X_array, maxlen=seq_length)\n",
        "print('shape of x',X.shape)"
      ],
      "metadata": {
        "colab": {
          "base_uri": "https://localhost:8080/"
        },
        "id": "2o1YNtxL2sEW",
        "outputId": "9c16e31a-c77b-4a46-dbed-787d6539ac2a"
      },
      "execution_count": null,
      "outputs": [
        {
          "output_type": "stream",
          "name": "stdout",
          "text": [
            "shape of x (15329, 7)\n"
          ]
        }
      ]
    },
    {
      "cell_type": "code",
      "source": [
        "X_train, X_test, y_train, y_test = train_test_split(X , y, test_size=0.2, random_state=1010,shuffle=True,stratify=y)"
      ],
      "metadata": {
        "id": "3VA5AioW26Ec"
      },
      "execution_count": null,
      "outputs": []
    },
    {
      "cell_type": "code",
      "source": [
        "# put your codes here\n",
        "model4 = tf.keras.Sequential()\n",
        "\n",
        "model4.add(tf.keras.layers.Embedding(len(word_index) + 1,100, weights = [embedding_matrix], trainable = False, input_length=seq_length))\n",
        "model4.add(LSTM(units =15,activation='relu',return_sequences = True,recurrent_dropout=0.2,dropout=0.2, input_shape = [7]))\n",
        "\n",
        "\n",
        "model4.add(tf.keras.layers.Flatten())\n",
        "model4.add(Dense(110, activation='softmax'))\n",
        "\n",
        "\n",
        "\n",
        "print(model4.summary())\n"
      ],
      "metadata": {
        "colab": {
          "base_uri": "https://localhost:8080/"
        },
        "id": "-bQmfNmu3HJ1",
        "outputId": "b302d184-3abb-4679-e45c-27ba0d93b2c2"
      },
      "execution_count": null,
      "outputs": [
        {
          "output_type": "stream",
          "name": "stdout",
          "text": [
            "Model: \"sequential_29\"\n",
            "_________________________________________________________________\n",
            " Layer (type)                Output Shape              Param #   \n",
            "=================================================================\n",
            " embedding_29 (Embedding)    (None, 7, 100)            1050600   \n",
            "                                                                 \n",
            " lstm_30 (LSTM)              (None, 7, 15)             6960      \n",
            "                                                                 \n",
            " flatten_29 (Flatten)        (None, 105)               0         \n",
            "                                                                 \n",
            " dense_29 (Dense)            (None, 110)               11660     \n",
            "                                                                 \n",
            "=================================================================\n",
            "Total params: 1,069,220\n",
            "Trainable params: 18,620\n",
            "Non-trainable params: 1,050,600\n",
            "_________________________________________________________________\n",
            "None\n"
          ]
        }
      ]
    },
    {
      "cell_type": "code",
      "source": [
        "opt = optimizers.RMSprop(learning_rate= 0.002)\n",
        "model4.compile(loss='categorical_crossentropy', optimizer=opt , metrics=['accuracy'])\n"
      ],
      "metadata": {
        "id": "BsJPDEbN3fWY"
      },
      "execution_count": null,
      "outputs": []
    },
    {
      "cell_type": "code",
      "source": [
        "history4=model4.fit(X_train, y_train, validation_data=(X_test, y_test),epochs=10, batch_size=batch_size)"
      ],
      "metadata": {
        "colab": {
          "base_uri": "https://localhost:8080/"
        },
        "id": "0E7VVht63ocj",
        "outputId": "a65bee60-af69-453c-c0c2-5c795c6cac42"
      },
      "execution_count": null,
      "outputs": [
        {
          "output_type": "stream",
          "name": "stdout",
          "text": [
            "Epoch 1/10\n",
            "384/384 [==============================] - 7s 11ms/step - loss: 1.4354 - accuracy: 0.8126 - val_loss: 1.1691 - val_accuracy: 0.8219\n",
            "Epoch 2/10\n",
            "384/384 [==============================] - 4s 11ms/step - loss: 1.1783 - accuracy: 0.8221 - val_loss: 1.1388 - val_accuracy: 0.8219\n",
            "Epoch 3/10\n",
            "384/384 [==============================] - 4s 11ms/step - loss: 1.1315 - accuracy: 0.8221 - val_loss: 1.1066 - val_accuracy: 0.8219\n",
            "Epoch 4/10\n",
            "384/384 [==============================] - 4s 11ms/step - loss: 1.0953 - accuracy: 0.8223 - val_loss: 1.0972 - val_accuracy: 0.8229\n",
            "Epoch 5/10\n",
            "384/384 [==============================] - 4s 11ms/step - loss: 1.0668 - accuracy: 0.8226 - val_loss: 1.0901 - val_accuracy: 0.8229\n",
            "Epoch 6/10\n",
            "384/384 [==============================] - 4s 10ms/step - loss: 1.0462 - accuracy: 0.8229 - val_loss: 1.0872 - val_accuracy: 0.8242\n",
            "Epoch 7/10\n",
            "384/384 [==============================] - 4s 10ms/step - loss: 1.0301 - accuracy: 0.8241 - val_loss: 1.0791 - val_accuracy: 0.8242\n",
            "Epoch 8/10\n",
            "384/384 [==============================] - 4s 10ms/step - loss: 1.0145 - accuracy: 0.8239 - val_loss: 1.0667 - val_accuracy: 0.8239\n",
            "Epoch 9/10\n",
            "384/384 [==============================] - 5s 14ms/step - loss: 0.9978 - accuracy: 0.8245 - val_loss: 1.0735 - val_accuracy: 0.8239\n",
            "Epoch 10/10\n",
            "384/384 [==============================] - 4s 11ms/step - loss: 0.9943 - accuracy: 0.8248 - val_loss: 1.0751 - val_accuracy: 0.8242\n"
          ]
        }
      ]
    },
    {
      "cell_type": "code",
      "source": [
        "# Retrieve a list of accuracy results on training and validation data\n",
        "# sets for each training epoch\n",
        "acc = history4.history['accuracy']\n",
        "val_acc = history4.history['val_accuracy']\n",
        "\n",
        "# Retrieve a list of list results on training and validation data\n",
        "# sets for each training epoch\n",
        "loss = history4.history['loss']\n",
        "val_loss = history4.history['val_loss']\n",
        "\n",
        "# Get number of epochs\n",
        "epochs = range(len(acc))\n",
        "\n",
        "# Plot training and validation accuracy per epoch\n",
        "plt.plot(epochs, acc)\n",
        "plt.plot(epochs, val_acc)\n",
        "plt.title('Training and validation accuracy')\n",
        "\n",
        "plt.figure()\n",
        "\n",
        "# Plot training and validation loss per epoch\n",
        "plt.plot(epochs, loss)\n",
        "plt.plot(epochs, val_loss)\n",
        "plt.title('Training and validation loss')"
      ],
      "metadata": {
        "colab": {
          "base_uri": "https://localhost:8080/",
          "height": 562
        },
        "id": "gHbGhgmw3wkE",
        "outputId": "76181e33-82c1-44a1-8081-55b2dc132fea"
      },
      "execution_count": null,
      "outputs": [
        {
          "output_type": "execute_result",
          "data": {
            "text/plain": [
              "Text(0.5, 1.0, 'Training and validation loss')"
            ]
          },
          "metadata": {},
          "execution_count": 270
        },
        {
          "output_type": "display_data",
          "data": {
            "text/plain": [
              "<Figure size 432x288 with 1 Axes>"
            ],
            "image/png": "[encoded data removed]"
          },
          "metadata": {
            "needs_background": "light"
          }
        },
        {
          "output_type": "display_data",
          "data": {
            "text/plain": [
              "<Figure size 432x288 with 1 Axes>"
            ],
            "image/png": "[encoded data removed]"
          },
          "metadata": {
            "needs_background": "light"
          }
        }
      ]
    },
    {
      "cell_type": "markdown",
      "source": [
        "**CHANGING THE SEQ_LENGTH TO 7 DOESN'T IMPACT THE MODEL MUCH**"
      ],
      "metadata": {
        "id": "QjIax6RVDqru"
      }
    },
    {
      "cell_type": "markdown",
      "source": [
        "**INCREASING THE NUMBER OF LSTM UNITS OR EPOCHS OR CHANGING BATCH SIZE RESULTS IN A POOR PERFORMANCE FOR THIS DATA**"
      ],
      "metadata": {
        "id": "MLZfV95uDyyX"
      }
    },
    {
      "cell_type": "markdown",
      "source": [
        "CONCLUSION:\n",
        "THE DATA SET USED HERE IS A SIMPLE ONE WITH 15329 SAMPLES.\n",
        "SO, FOR THIS KEEPING THE VOCUBULARY_SIZE AND SEQ_LENGTH IN LOW COUNT HELPS IN BETTER PERFORMANCE.\n",
        "EVEN SIMPLE RNN OR LSTM WITH LESS UNITS LIKE 5 OR 10 PERFORMS WELL"
      ],
      "metadata": {
        "id": "Tggw6BKnENbU"
      }
    },
    {
      "cell_type": "markdown",
      "source": [
        "MODEL 1 AND MODEL 4 DO WELL, ACCURACY AROUND 80%\n",
        "\n",
        "MODEL 4 WITH PRETRAINED WEIGHTS WITH LESS LSTM UNITS,DOES WELL AROUND 82% AND THIS MODEL DO NOT HAVE MUCH OVERFITTING ISSUES"
      ],
      "metadata": {
        "id": "0QgYsNlsFCSI"
      }
    }
  ],
  "metadata": {
    "kernelspec": {
      "display_name": "Python 3",
      "language": "python",
      "name": "python3"
    },
    "language_info": {
      "codemirror_mode": {
        "name": "ipython",
        "version": 3
      },
      "file_extension": ".py",
      "mimetype": "text/x-python",
      "name": "python",
      "nbconvert_exporter": "python",
      "pygments_lexer": "ipython3",
      "version": "3.7.1"
    },
    "colab": {
      "provenance": []
    }
  },
  "nbformat": 4,
  "nbformat_minor": 0
}